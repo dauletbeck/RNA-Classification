{
 "cells": [
  {
   "cell_type": "code",
   "execution_count": 62,
   "metadata": {},
   "outputs": [],
   "source": [
    "import pandas as pd\n",
    "from biopandas.pdb import PandasPdb\n",
    "from prody import parsePDBHeader\n",
    "from typing import Optional\n",
    "\n",
    "import numpy as np\n",
    "from PNDS_PNS_alt import pns_loop\n",
    "from PNDS_geometry_alt import RESHify_1D, unRESHify_1D\n",
    "from PNDS_io import export_csv\n",
    "from plot_functions import scatter_plots\n",
    "from matplotlib import pyplot as plt"
   ]
  },
  {
   "cell_type": "code",
   "execution_count": 4,
   "metadata": {},
   "outputs": [],
   "source": [
    "def read_pdb_to_dataframe(\n",
    "    pdb_path: Optional[str] = None,\n",
    "    model_index: int = 1,\n",
    "    parse_header: bool = True,\n",
    "    ) -> pd.DataFrame:\n",
    "    \"\"\"\n",
    "    Read a PDB file, and return a Pandas DataFrame containing the atomic coordinates and metadata.\n",
    "\n",
    "    Args:\n",
    "        pdb_path (str, optional): Path to a local PDB file to read. Defaults to None.\n",
    "        model_index (int, optional): Index of the model to extract from the PDB file, in case\n",
    "            it contains multiple models. Defaults to 1.\n",
    "        parse_header (bool, optional): Whether to parse the PDB header and extract metadata.\n",
    "            Defaults to True.\n",
    "\n",
    "    Returns:\n",
    "        pd.DataFrame: A DataFrame containing the atomic coordinates and metadata, with one row\n",
    "            per atom\n",
    "    \"\"\"\n",
    "    atomic_df = PandasPdb().read_pdb(pdb_path)\n",
    "    if parse_header:\n",
    "        header = parsePDBHeader(pdb_path)\n",
    "    else:\n",
    "        header = None\n",
    "    atomic_df = atomic_df.get_model(model_index)\n",
    "    if len(atomic_df.df[\"ATOM\"]) == 0:\n",
    "        raise ValueError(f\"No model found for index: {model_index}\")\n",
    "\n",
    "    return pd.concat([atomic_df.df[\"ATOM\"], atomic_df.df[\"HETATM\"]]), header"
   ]
  },
  {
   "cell_type": "code",
   "execution_count": 6,
   "metadata": {},
   "outputs": [],
   "source": [
    "df, df_header = read_pdb_to_dataframe('/Users/kaisardauletbek/Documents/rnaprecis/clean_mintage_code/rna2020_pruned_pdbs/2jLv_C_FH_pruned.pdb')"
   ]
  },
  {
   "cell_type": "code",
   "execution_count": 187,
   "metadata": {},
   "outputs": [
    {
     "data": {
      "text/html": [
       "<div>\n",
       "<style scoped>\n",
       "    .dataframe tbody tr th:only-of-type {\n",
       "        vertical-align: middle;\n",
       "    }\n",
       "\n",
       "    .dataframe tbody tr th {\n",
       "        vertical-align: top;\n",
       "    }\n",
       "\n",
       "    .dataframe thead th {\n",
       "        text-align: right;\n",
       "    }\n",
       "</style>\n",
       "<table border=\"1\" class=\"dataframe\">\n",
       "  <thead>\n",
       "    <tr style=\"text-align: right;\">\n",
       "      <th></th>\n",
       "      <th>x_coord</th>\n",
       "      <th>y_coord</th>\n",
       "      <th>z_coord</th>\n",
       "    </tr>\n",
       "  </thead>\n",
       "  <tbody>\n",
       "    <tr>\n",
       "      <th>0</th>\n",
       "      <td>17.417</td>\n",
       "      <td>10.088</td>\n",
       "      <td>25.249</td>\n",
       "    </tr>\n",
       "    <tr>\n",
       "      <th>34</th>\n",
       "      <td>17.739</td>\n",
       "      <td>4.364</td>\n",
       "      <td>25.408</td>\n",
       "    </tr>\n",
       "    <tr>\n",
       "      <th>67</th>\n",
       "      <td>15.946</td>\n",
       "      <td>-1.160</td>\n",
       "      <td>23.544</td>\n",
       "    </tr>\n",
       "  </tbody>\n",
       "</table>\n",
       "</div>"
      ],
      "text/plain": [
       "    x_coord  y_coord  z_coord\n",
       "0    17.417   10.088   25.249\n",
       "34   17.739    4.364   25.408\n",
       "67   15.946   -1.160   23.544"
      ]
     },
     "execution_count": 187,
     "metadata": {},
     "output_type": "execute_result"
    }
   ],
   "source": [
    "df.loc[df['atom_name']=='P', ['x_coord', 'y_coord', 'z_coord']]"
   ]
  },
  {
   "cell_type": "code",
   "execution_count": 17,
   "metadata": {},
   "outputs": [
    {
     "data": {
      "application/vnd.plotly.v1+json": {
       "config": {
        "plotlyServerURL": "https://plot.ly"
       },
       "data": [
        {
         "hovertemplate": "element_symbol=P<br>x_coord=%{x}<br>y_coord=%{y}<br>z_coord=%{z}<extra></extra>",
         "legendgroup": "P",
         "marker": {
          "color": "#636efa",
          "size": 4,
          "symbol": "circle"
         },
         "mode": "markers",
         "name": "P",
         "scene": "scene",
         "showlegend": true,
         "type": "scatter3d",
         "x": [
          17.417,
          17.739,
          15.946
         ],
         "y": [
          10.088,
          4.364,
          -1.16
         ],
         "z": [
          25.249,
          25.408,
          23.544
         ]
        },
        {
         "hovertemplate": "element_symbol=O<br>x_coord=%{x}<br>y_coord=%{y}<br>z_coord=%{z}<extra></extra>",
         "legendgroup": "O",
         "marker": {
          "color": "#EF553B",
          "size": 4,
          "symbol": "circle"
         },
         "mode": "markers",
         "name": "O",
         "scene": "scene",
         "showlegend": true,
         "type": "scatter3d",
         "x": [
          18.888,
          16.567,
          17.001,
          15.496,
          17.57,
          15.67,
          9.89,
          19.044,
          17.402,
          16.591,
          14.232,
          15.711,
          13.165,
          16.626,
          16.579,
          14.456,
          11.589,
          12.501,
          9.994,
          9.028
         ],
         "y": [
          10.14,
          10.099,
          8.743,
          7.79,
          5.127,
          4.778,
          6.851,
          3.684,
          5.308,
          3.266,
          2.482,
          -0.405,
          -0.347,
          -2.426,
          -0.225,
          -1.427,
          -1.177,
          -4.207,
          -3.234,
          0.219
         ],
         "z": [
          25.154,
          24.027,
          25.985,
          28.074,
          26.82,
          28.91,
          24.209,
          25.399,
          24.336,
          25.454,
          26.538,
          24.946,
          26.332,
          23.82,
          22.563,
          22.994,
          22.855,
          21.119,
          21.21,
          20.013
         ]
        },
        {
         "hovertemplate": "element_symbol=C<br>x_coord=%{x}<br>y_coord=%{y}<br>z_coord=%{z}<extra></extra>",
         "legendgroup": "C",
         "marker": {
          "color": "#00cc96",
          "size": 4,
          "symbol": "circle"
         },
         "mode": "markers",
         "name": "C",
         "scene": "scene",
         "showlegend": true,
         "type": "scatter3d",
         "x": [
          17.681,
          16.812,
          16.483,
          15.296,
          14.535,
          13.634,
          11.813,
          10.561,
          10.754,
          12.391,
          16.649,
          15.312,
          14.968,
          13.47,
          13.096,
          13.449,
          11.621,
          10.505,
          9.484,
          11.519,
          13.583,
          12.269,
          12.362,
          11.005,
          10.808,
          10.129,
          11.591,
          12.626,
          12.348
         ],
         "y": [
          8.283,
          7.241,
          6.037,
          5.464,
          6.754,
          8.001,
          6.953,
          6.451,
          4.861,
          6.356,
          2.215,
          1.508,
          0.8,
          0.601,
          1.981,
          3.932,
          3.949,
          4.174,
          2.361,
          2.899,
          -2.378,
          -2.47,
          -2.808,
          -2.326,
          -1.053,
          0.784,
          2.524,
          1.979,
          0.829
         ],
         "z": [
          27.167,
          27.831,
          26.963,
          27.727,
          28.025,
          25.977,
          25.638,
          25.172,
          27.036,
          26.744,
          26.408,
          26.402,
          25.097,
          25.325,
          25.846,
          24.278,
          23.191,
          22.35,
          23.391,
          24.085,
          23.592,
          22.827,
          21.339,
          20.855,
          21.673,
          20.134,
          19.626,
          20.447,
          21.09
         ]
        },
        {
         "hovertemplate": "element_symbol=N<br>x_coord=%{x}<br>y_coord=%{y}<br>z_coord=%{z}<extra></extra>",
         "legendgroup": "N",
         "marker": {
          "color": "#ab63fa",
          "size": 4,
          "symbol": "circle"
         },
         "mode": "markers",
         "name": "N",
         "scene": "scene",
         "showlegend": true,
         "type": "scatter3d",
         "x": [
          13.563,
          12.608,
          10.093,
          10.171,
          11.922,
          12.711,
          12.838,
          10.452,
          9.445,
          10.477,
          11.124,
          10.403,
          11.774
         ],
         "y": [
          7.039,
          7.997,
          5.385,
          3.826,
          5.316,
          2.892,
          4.598,
          5.154,
          3.343,
          2.063,
          0.217,
          1.937,
          3.657
         ],
         "z": [
          26.965,
          25.175,
          25.941,
          27.667,
          27.484,
          24.78,
          23.325,
          21.432,
          22.478,
          24.229,
          20.942,
          19.481,
          18.944
         ]
        },
        {
         "hovertemplate": "element_symbol=H<br>x_coord=%{x}<br>y_coord=%{y}<br>z_coord=%{z}<extra></extra>",
         "legendgroup": "H",
         "marker": {
          "color": "#FFA15A",
          "size": 4,
          "symbol": "circle"
         },
         "mode": "markers",
         "name": "H",
         "scene": "scene",
         "showlegend": true,
         "type": "scatter3d",
         "x": [
          17.846,
          18.545,
          17.324,
          16.292,
          14.797,
          16.476,
          14.048,
          14.345,
          9.342,
          10.55,
          9.419,
          16.843,
          17.362,
          15.389,
          15.181,
          13.015,
          12.954,
          12.324,
          14.301,
          9.75,
          11.12,
          8.727,
          13.408,
          14.011,
          11.81,
          13.126,
          10.966,
          10.3,
          9.863,
          12.522,
          11.144,
          13.452,
          12.991
         ],
         "y": [
          9.023,
          7.907,
          6.983,
          6.25,
          4.788,
          4.547,
          6.676,
          8.594,
          5.03,
          3.472,
          3.519,
          2.568,
          1.595,
          0.868,
          1.268,
          0.278,
          0.054,
          1.91,
          4.146,
          5.249,
          5.686,
          1.823,
          -2.127,
          -3.248,
          -3.195,
          -2.411,
          -2.213,
          -4.016,
          -0.974,
          4.077,
          3.967,
          2.398,
          0.444
         ],
         "z": [
          27.773,
          26.936,
          28.614,
          26.036,
          27.243,
          28.857,
          28.86,
          25.893,
          25.719,
          28.353,
          27.385,
          27.291,
          26.188,
          27.127,
          24.275,
          24.532,
          27.04,
          26.429,
          24.583,
          20.945,
          21.332,
          23.446,
          24.513,
          23.611,
          23.28,
          20.893,
          19.892,
          21.19,
          21.878,
          19.001,
          18.448,
          20.533,
          21.641
         ]
        }
       ],
       "layout": {
        "legend": {
         "title": {
          "text": "element_symbol"
         },
         "tracegroupgap": 0
        },
        "margin": {
         "t": 60
        },
        "scene": {
         "domain": {
          "x": [
           0,
           1
          ],
          "y": [
           0,
           1
          ]
         },
         "xaxis": {
          "title": {
           "text": "x_coord"
          }
         },
         "yaxis": {
          "title": {
           "text": "y_coord"
          }
         },
         "zaxis": {
          "title": {
           "text": "z_coord"
          }
         }
        },
        "template": {
         "data": {
          "bar": [
           {
            "error_x": {
             "color": "#2a3f5f"
            },
            "error_y": {
             "color": "#2a3f5f"
            },
            "marker": {
             "line": {
              "color": "#E5ECF6",
              "width": 0.5
             },
             "pattern": {
              "fillmode": "overlay",
              "size": 10,
              "solidity": 0.2
             }
            },
            "type": "bar"
           }
          ],
          "barpolar": [
           {
            "marker": {
             "line": {
              "color": "#E5ECF6",
              "width": 0.5
             },
             "pattern": {
              "fillmode": "overlay",
              "size": 10,
              "solidity": 0.2
             }
            },
            "type": "barpolar"
           }
          ],
          "carpet": [
           {
            "aaxis": {
             "endlinecolor": "#2a3f5f",
             "gridcolor": "white",
             "linecolor": "white",
             "minorgridcolor": "white",
             "startlinecolor": "#2a3f5f"
            },
            "baxis": {
             "endlinecolor": "#2a3f5f",
             "gridcolor": "white",
             "linecolor": "white",
             "minorgridcolor": "white",
             "startlinecolor": "#2a3f5f"
            },
            "type": "carpet"
           }
          ],
          "choropleth": [
           {
            "colorbar": {
             "outlinewidth": 0,
             "ticks": ""
            },
            "type": "choropleth"
           }
          ],
          "contour": [
           {
            "colorbar": {
             "outlinewidth": 0,
             "ticks": ""
            },
            "colorscale": [
             [
              0,
              "#0d0887"
             ],
             [
              0.1111111111111111,
              "#46039f"
             ],
             [
              0.2222222222222222,
              "#7201a8"
             ],
             [
              0.3333333333333333,
              "#9c179e"
             ],
             [
              0.4444444444444444,
              "#bd3786"
             ],
             [
              0.5555555555555556,
              "#d8576b"
             ],
             [
              0.6666666666666666,
              "#ed7953"
             ],
             [
              0.7777777777777778,
              "#fb9f3a"
             ],
             [
              0.8888888888888888,
              "#fdca26"
             ],
             [
              1,
              "#f0f921"
             ]
            ],
            "type": "contour"
           }
          ],
          "contourcarpet": [
           {
            "colorbar": {
             "outlinewidth": 0,
             "ticks": ""
            },
            "type": "contourcarpet"
           }
          ],
          "heatmap": [
           {
            "colorbar": {
             "outlinewidth": 0,
             "ticks": ""
            },
            "colorscale": [
             [
              0,
              "#0d0887"
             ],
             [
              0.1111111111111111,
              "#46039f"
             ],
             [
              0.2222222222222222,
              "#7201a8"
             ],
             [
              0.3333333333333333,
              "#9c179e"
             ],
             [
              0.4444444444444444,
              "#bd3786"
             ],
             [
              0.5555555555555556,
              "#d8576b"
             ],
             [
              0.6666666666666666,
              "#ed7953"
             ],
             [
              0.7777777777777778,
              "#fb9f3a"
             ],
             [
              0.8888888888888888,
              "#fdca26"
             ],
             [
              1,
              "#f0f921"
             ]
            ],
            "type": "heatmap"
           }
          ],
          "heatmapgl": [
           {
            "colorbar": {
             "outlinewidth": 0,
             "ticks": ""
            },
            "colorscale": [
             [
              0,
              "#0d0887"
             ],
             [
              0.1111111111111111,
              "#46039f"
             ],
             [
              0.2222222222222222,
              "#7201a8"
             ],
             [
              0.3333333333333333,
              "#9c179e"
             ],
             [
              0.4444444444444444,
              "#bd3786"
             ],
             [
              0.5555555555555556,
              "#d8576b"
             ],
             [
              0.6666666666666666,
              "#ed7953"
             ],
             [
              0.7777777777777778,
              "#fb9f3a"
             ],
             [
              0.8888888888888888,
              "#fdca26"
             ],
             [
              1,
              "#f0f921"
             ]
            ],
            "type": "heatmapgl"
           }
          ],
          "histogram": [
           {
            "marker": {
             "pattern": {
              "fillmode": "overlay",
              "size": 10,
              "solidity": 0.2
             }
            },
            "type": "histogram"
           }
          ],
          "histogram2d": [
           {
            "colorbar": {
             "outlinewidth": 0,
             "ticks": ""
            },
            "colorscale": [
             [
              0,
              "#0d0887"
             ],
             [
              0.1111111111111111,
              "#46039f"
             ],
             [
              0.2222222222222222,
              "#7201a8"
             ],
             [
              0.3333333333333333,
              "#9c179e"
             ],
             [
              0.4444444444444444,
              "#bd3786"
             ],
             [
              0.5555555555555556,
              "#d8576b"
             ],
             [
              0.6666666666666666,
              "#ed7953"
             ],
             [
              0.7777777777777778,
              "#fb9f3a"
             ],
             [
              0.8888888888888888,
              "#fdca26"
             ],
             [
              1,
              "#f0f921"
             ]
            ],
            "type": "histogram2d"
           }
          ],
          "histogram2dcontour": [
           {
            "colorbar": {
             "outlinewidth": 0,
             "ticks": ""
            },
            "colorscale": [
             [
              0,
              "#0d0887"
             ],
             [
              0.1111111111111111,
              "#46039f"
             ],
             [
              0.2222222222222222,
              "#7201a8"
             ],
             [
              0.3333333333333333,
              "#9c179e"
             ],
             [
              0.4444444444444444,
              "#bd3786"
             ],
             [
              0.5555555555555556,
              "#d8576b"
             ],
             [
              0.6666666666666666,
              "#ed7953"
             ],
             [
              0.7777777777777778,
              "#fb9f3a"
             ],
             [
              0.8888888888888888,
              "#fdca26"
             ],
             [
              1,
              "#f0f921"
             ]
            ],
            "type": "histogram2dcontour"
           }
          ],
          "mesh3d": [
           {
            "colorbar": {
             "outlinewidth": 0,
             "ticks": ""
            },
            "type": "mesh3d"
           }
          ],
          "parcoords": [
           {
            "line": {
             "colorbar": {
              "outlinewidth": 0,
              "ticks": ""
             }
            },
            "type": "parcoords"
           }
          ],
          "pie": [
           {
            "automargin": true,
            "type": "pie"
           }
          ],
          "scatter": [
           {
            "fillpattern": {
             "fillmode": "overlay",
             "size": 10,
             "solidity": 0.2
            },
            "type": "scatter"
           }
          ],
          "scatter3d": [
           {
            "line": {
             "colorbar": {
              "outlinewidth": 0,
              "ticks": ""
             }
            },
            "marker": {
             "colorbar": {
              "outlinewidth": 0,
              "ticks": ""
             }
            },
            "type": "scatter3d"
           }
          ],
          "scattercarpet": [
           {
            "marker": {
             "colorbar": {
              "outlinewidth": 0,
              "ticks": ""
             }
            },
            "type": "scattercarpet"
           }
          ],
          "scattergeo": [
           {
            "marker": {
             "colorbar": {
              "outlinewidth": 0,
              "ticks": ""
             }
            },
            "type": "scattergeo"
           }
          ],
          "scattergl": [
           {
            "marker": {
             "colorbar": {
              "outlinewidth": 0,
              "ticks": ""
             }
            },
            "type": "scattergl"
           }
          ],
          "scattermapbox": [
           {
            "marker": {
             "colorbar": {
              "outlinewidth": 0,
              "ticks": ""
             }
            },
            "type": "scattermapbox"
           }
          ],
          "scatterpolar": [
           {
            "marker": {
             "colorbar": {
              "outlinewidth": 0,
              "ticks": ""
             }
            },
            "type": "scatterpolar"
           }
          ],
          "scatterpolargl": [
           {
            "marker": {
             "colorbar": {
              "outlinewidth": 0,
              "ticks": ""
             }
            },
            "type": "scatterpolargl"
           }
          ],
          "scatterternary": [
           {
            "marker": {
             "colorbar": {
              "outlinewidth": 0,
              "ticks": ""
             }
            },
            "type": "scatterternary"
           }
          ],
          "surface": [
           {
            "colorbar": {
             "outlinewidth": 0,
             "ticks": ""
            },
            "colorscale": [
             [
              0,
              "#0d0887"
             ],
             [
              0.1111111111111111,
              "#46039f"
             ],
             [
              0.2222222222222222,
              "#7201a8"
             ],
             [
              0.3333333333333333,
              "#9c179e"
             ],
             [
              0.4444444444444444,
              "#bd3786"
             ],
             [
              0.5555555555555556,
              "#d8576b"
             ],
             [
              0.6666666666666666,
              "#ed7953"
             ],
             [
              0.7777777777777778,
              "#fb9f3a"
             ],
             [
              0.8888888888888888,
              "#fdca26"
             ],
             [
              1,
              "#f0f921"
             ]
            ],
            "type": "surface"
           }
          ],
          "table": [
           {
            "cells": {
             "fill": {
              "color": "#EBF0F8"
             },
             "line": {
              "color": "white"
             }
            },
            "header": {
             "fill": {
              "color": "#C8D4E3"
             },
             "line": {
              "color": "white"
             }
            },
            "type": "table"
           }
          ]
         },
         "layout": {
          "annotationdefaults": {
           "arrowcolor": "#2a3f5f",
           "arrowhead": 0,
           "arrowwidth": 1
          },
          "autotypenumbers": "strict",
          "coloraxis": {
           "colorbar": {
            "outlinewidth": 0,
            "ticks": ""
           }
          },
          "colorscale": {
           "diverging": [
            [
             0,
             "#8e0152"
            ],
            [
             0.1,
             "#c51b7d"
            ],
            [
             0.2,
             "#de77ae"
            ],
            [
             0.3,
             "#f1b6da"
            ],
            [
             0.4,
             "#fde0ef"
            ],
            [
             0.5,
             "#f7f7f7"
            ],
            [
             0.6,
             "#e6f5d0"
            ],
            [
             0.7,
             "#b8e186"
            ],
            [
             0.8,
             "#7fbc41"
            ],
            [
             0.9,
             "#4d9221"
            ],
            [
             1,
             "#276419"
            ]
           ],
           "sequential": [
            [
             0,
             "#0d0887"
            ],
            [
             0.1111111111111111,
             "#46039f"
            ],
            [
             0.2222222222222222,
             "#7201a8"
            ],
            [
             0.3333333333333333,
             "#9c179e"
            ],
            [
             0.4444444444444444,
             "#bd3786"
            ],
            [
             0.5555555555555556,
             "#d8576b"
            ],
            [
             0.6666666666666666,
             "#ed7953"
            ],
            [
             0.7777777777777778,
             "#fb9f3a"
            ],
            [
             0.8888888888888888,
             "#fdca26"
            ],
            [
             1,
             "#f0f921"
            ]
           ],
           "sequentialminus": [
            [
             0,
             "#0d0887"
            ],
            [
             0.1111111111111111,
             "#46039f"
            ],
            [
             0.2222222222222222,
             "#7201a8"
            ],
            [
             0.3333333333333333,
             "#9c179e"
            ],
            [
             0.4444444444444444,
             "#bd3786"
            ],
            [
             0.5555555555555556,
             "#d8576b"
            ],
            [
             0.6666666666666666,
             "#ed7953"
            ],
            [
             0.7777777777777778,
             "#fb9f3a"
            ],
            [
             0.8888888888888888,
             "#fdca26"
            ],
            [
             1,
             "#f0f921"
            ]
           ]
          },
          "colorway": [
           "#636efa",
           "#EF553B",
           "#00cc96",
           "#ab63fa",
           "#FFA15A",
           "#19d3f3",
           "#FF6692",
           "#B6E880",
           "#FF97FF",
           "#FECB52"
          ],
          "font": {
           "color": "#2a3f5f"
          },
          "geo": {
           "bgcolor": "white",
           "lakecolor": "white",
           "landcolor": "#E5ECF6",
           "showlakes": true,
           "showland": true,
           "subunitcolor": "white"
          },
          "hoverlabel": {
           "align": "left"
          },
          "hovermode": "closest",
          "mapbox": {
           "style": "light"
          },
          "paper_bgcolor": "white",
          "plot_bgcolor": "#E5ECF6",
          "polar": {
           "angularaxis": {
            "gridcolor": "white",
            "linecolor": "white",
            "ticks": ""
           },
           "bgcolor": "#E5ECF6",
           "radialaxis": {
            "gridcolor": "white",
            "linecolor": "white",
            "ticks": ""
           }
          },
          "scene": {
           "xaxis": {
            "backgroundcolor": "#E5ECF6",
            "gridcolor": "white",
            "gridwidth": 2,
            "linecolor": "white",
            "showbackground": true,
            "ticks": "",
            "zerolinecolor": "white"
           },
           "yaxis": {
            "backgroundcolor": "#E5ECF6",
            "gridcolor": "white",
            "gridwidth": 2,
            "linecolor": "white",
            "showbackground": true,
            "ticks": "",
            "zerolinecolor": "white"
           },
           "zaxis": {
            "backgroundcolor": "#E5ECF6",
            "gridcolor": "white",
            "gridwidth": 2,
            "linecolor": "white",
            "showbackground": true,
            "ticks": "",
            "zerolinecolor": "white"
           }
          },
          "shapedefaults": {
           "line": {
            "color": "#2a3f5f"
           }
          },
          "ternary": {
           "aaxis": {
            "gridcolor": "white",
            "linecolor": "white",
            "ticks": ""
           },
           "baxis": {
            "gridcolor": "white",
            "linecolor": "white",
            "ticks": ""
           },
           "bgcolor": "#E5ECF6",
           "caxis": {
            "gridcolor": "white",
            "linecolor": "white",
            "ticks": ""
           }
          },
          "title": {
           "x": 0.05
          },
          "xaxis": {
           "automargin": true,
           "gridcolor": "white",
           "linecolor": "white",
           "ticks": "",
           "title": {
            "standoff": 15
           },
           "zerolinecolor": "white",
           "zerolinewidth": 2
          },
          "yaxis": {
           "automargin": true,
           "gridcolor": "white",
           "linecolor": "white",
           "ticks": "",
           "title": {
            "standoff": 15
           },
           "zerolinecolor": "white",
           "zerolinewidth": 2
          }
         }
        }
       }
      }
     },
     "metadata": {},
     "output_type": "display_data"
    }
   ],
   "source": [
    "import plotly.express as px\n",
    "\n",
    "fig = px.scatter_3d(df, x='x_coord', y='y_coord', z='z_coord', color='element_symbol')\n",
    "fig.update_traces(marker_size = 4)\n",
    "\n",
    "fig.show()"
   ]
  },
  {
   "cell_type": "code",
   "execution_count": 185,
   "metadata": {},
   "outputs": [],
   "source": [
    "from graphein.protein.graphs import label_node_id\n",
    "\n",
    "def process_dataframe(df: pd.DataFrame, granularity='CA') -> pd.DataFrame:\n",
    "    \"\"\"\n",
    "    Process a DataFrame of protein structure data to reduce ambiguity and simplify analysis.\n",
    "\n",
    "    This function performs the following steps:\n",
    "    1. Handles alternate locations for an atom, defaulting to keep the first one if multiple exist.\n",
    "    2. Assigns a unique node_id to each residue in the DataFrame, using a helper function label_node_id.\n",
    "    3. Filters the DataFrame based on specified granularity (defaults to 'CA' for alpha carbon).\n",
    "\n",
    "    Parameters\n",
    "    ----------\n",
    "    df : pd.DataFrame\n",
    "        The DataFrame containing protein structure data to process. It is expected to contain columns 'alt_loc' and 'atom_name'.\n",
    "        \n",
    "    granularity : str, optional\n",
    "        The level of detail or perspective at which the DataFrame should be analyzed. Defaults to 'CA' (alpha carbon).\n",
    "    \"\"\"\n",
    "    # handle the case of alternative locations,\n",
    "    # if so default to the 1st one = A\n",
    "    if 'alt_loc' in df.columns:\n",
    "      df['alt_loc'] = df['alt_loc'].replace('', 'A')\n",
    "      df = df.loc[(df['alt_loc']=='A')]\n",
    "    df = label_node_id(df, granularity)\n",
    "    df = df.loc[(df['atom_name']==granularity)]\n",
    "    return df"
   ]
  },
  {
   "cell_type": "code",
   "execution_count": 191,
   "metadata": {},
   "outputs": [
    {
     "data": {
      "text/html": [
       "<div>\n",
       "<style scoped>\n",
       "    .dataframe tbody tr th:only-of-type {\n",
       "        vertical-align: middle;\n",
       "    }\n",
       "\n",
       "    .dataframe tbody tr th {\n",
       "        vertical-align: top;\n",
       "    }\n",
       "\n",
       "    .dataframe thead th {\n",
       "        text-align: right;\n",
       "    }\n",
       "</style>\n",
       "<table border=\"1\" class=\"dataframe\">\n",
       "  <thead>\n",
       "    <tr style=\"text-align: right;\">\n",
       "      <th></th>\n",
       "      <th>record_name</th>\n",
       "      <th>atom_number</th>\n",
       "      <th>blank_1</th>\n",
       "      <th>atom_name</th>\n",
       "      <th>alt_loc</th>\n",
       "      <th>residue_name</th>\n",
       "      <th>blank_2</th>\n",
       "      <th>chain_id</th>\n",
       "      <th>residue_number</th>\n",
       "      <th>insertion</th>\n",
       "      <th>...</th>\n",
       "      <th>occupancy</th>\n",
       "      <th>b_factor</th>\n",
       "      <th>blank_4</th>\n",
       "      <th>segment_id</th>\n",
       "      <th>element_symbol</th>\n",
       "      <th>charge</th>\n",
       "      <th>line_idx</th>\n",
       "      <th>model_id</th>\n",
       "      <th>node_id</th>\n",
       "      <th>residue_id</th>\n",
       "    </tr>\n",
       "  </thead>\n",
       "  <tbody>\n",
       "    <tr>\n",
       "      <th>0</th>\n",
       "      <td>ATOM</td>\n",
       "      <td>32</td>\n",
       "      <td></td>\n",
       "      <td>P</td>\n",
       "      <td>A</td>\n",
       "      <td>G</td>\n",
       "      <td></td>\n",
       "      <td>C</td>\n",
       "      <td>2</td>\n",
       "      <td></td>\n",
       "      <td>...</td>\n",
       "      <td>1.0</td>\n",
       "      <td>23.09</td>\n",
       "      <td></td>\n",
       "      <td></td>\n",
       "      <td>P</td>\n",
       "      <td>NaN</td>\n",
       "      <td>4</td>\n",
       "      <td>1</td>\n",
       "      <td>C:G:2:A</td>\n",
       "      <td>C:G:2:A</td>\n",
       "    </tr>\n",
       "    <tr>\n",
       "      <th>1</th>\n",
       "      <td>ATOM</td>\n",
       "      <td>33</td>\n",
       "      <td></td>\n",
       "      <td>OP1</td>\n",
       "      <td>A</td>\n",
       "      <td>G</td>\n",
       "      <td></td>\n",
       "      <td>C</td>\n",
       "      <td>2</td>\n",
       "      <td></td>\n",
       "      <td>...</td>\n",
       "      <td>1.0</td>\n",
       "      <td>23.37</td>\n",
       "      <td></td>\n",
       "      <td></td>\n",
       "      <td>O</td>\n",
       "      <td>NaN</td>\n",
       "      <td>5</td>\n",
       "      <td>1</td>\n",
       "      <td>C:G:2:A</td>\n",
       "      <td>C:G:2:A</td>\n",
       "    </tr>\n",
       "    <tr>\n",
       "      <th>2</th>\n",
       "      <td>ATOM</td>\n",
       "      <td>34</td>\n",
       "      <td></td>\n",
       "      <td>OP2</td>\n",
       "      <td>A</td>\n",
       "      <td>G</td>\n",
       "      <td></td>\n",
       "      <td>C</td>\n",
       "      <td>2</td>\n",
       "      <td></td>\n",
       "      <td>...</td>\n",
       "      <td>1.0</td>\n",
       "      <td>21.92</td>\n",
       "      <td></td>\n",
       "      <td></td>\n",
       "      <td>O</td>\n",
       "      <td>NaN</td>\n",
       "      <td>6</td>\n",
       "      <td>1</td>\n",
       "      <td>C:G:2:A</td>\n",
       "      <td>C:G:2:A</td>\n",
       "    </tr>\n",
       "    <tr>\n",
       "      <th>3</th>\n",
       "      <td>ATOM</td>\n",
       "      <td>35</td>\n",
       "      <td></td>\n",
       "      <td>O5'</td>\n",
       "      <td>A</td>\n",
       "      <td>G</td>\n",
       "      <td></td>\n",
       "      <td>C</td>\n",
       "      <td>2</td>\n",
       "      <td></td>\n",
       "      <td>...</td>\n",
       "      <td>1.0</td>\n",
       "      <td>22.52</td>\n",
       "      <td></td>\n",
       "      <td></td>\n",
       "      <td>O</td>\n",
       "      <td>NaN</td>\n",
       "      <td>7</td>\n",
       "      <td>1</td>\n",
       "      <td>C:G:2:A</td>\n",
       "      <td>C:G:2:A</td>\n",
       "    </tr>\n",
       "    <tr>\n",
       "      <th>4</th>\n",
       "      <td>ATOM</td>\n",
       "      <td>36</td>\n",
       "      <td></td>\n",
       "      <td>C5'</td>\n",
       "      <td>A</td>\n",
       "      <td>G</td>\n",
       "      <td></td>\n",
       "      <td>C</td>\n",
       "      <td>2</td>\n",
       "      <td></td>\n",
       "      <td>...</td>\n",
       "      <td>1.0</td>\n",
       "      <td>21.48</td>\n",
       "      <td></td>\n",
       "      <td></td>\n",
       "      <td>C</td>\n",
       "      <td>NaN</td>\n",
       "      <td>8</td>\n",
       "      <td>1</td>\n",
       "      <td>C:G:2:A</td>\n",
       "      <td>C:G:2:A</td>\n",
       "    </tr>\n",
       "    <tr>\n",
       "      <th>...</th>\n",
       "      <td>...</td>\n",
       "      <td>...</td>\n",
       "      <td>...</td>\n",
       "      <td>...</td>\n",
       "      <td>...</td>\n",
       "      <td>...</td>\n",
       "      <td>...</td>\n",
       "      <td>...</td>\n",
       "      <td>...</td>\n",
       "      <td>...</td>\n",
       "      <td>...</td>\n",
       "      <td>...</td>\n",
       "      <td>...</td>\n",
       "      <td>...</td>\n",
       "      <td>...</td>\n",
       "      <td>...</td>\n",
       "      <td>...</td>\n",
       "      <td>...</td>\n",
       "      <td>...</td>\n",
       "      <td>...</td>\n",
       "      <td>...</td>\n",
       "    </tr>\n",
       "    <tr>\n",
       "      <th>93</th>\n",
       "      <td>ATOM</td>\n",
       "      <td>125</td>\n",
       "      <td></td>\n",
       "      <td>H1'</td>\n",
       "      <td>A</td>\n",
       "      <td>C</td>\n",
       "      <td></td>\n",
       "      <td>C</td>\n",
       "      <td>4</td>\n",
       "      <td></td>\n",
       "      <td>...</td>\n",
       "      <td>1.0</td>\n",
       "      <td>21.33</td>\n",
       "      <td></td>\n",
       "      <td></td>\n",
       "      <td>H</td>\n",
       "      <td>NaN</td>\n",
       "      <td>97</td>\n",
       "      <td>1</td>\n",
       "      <td>C:C:4:A</td>\n",
       "      <td>C:C:4:A</td>\n",
       "    </tr>\n",
       "    <tr>\n",
       "      <th>94</th>\n",
       "      <td>ATOM</td>\n",
       "      <td>126</td>\n",
       "      <td></td>\n",
       "      <td>H41</td>\n",
       "      <td>A</td>\n",
       "      <td>C</td>\n",
       "      <td></td>\n",
       "      <td>C</td>\n",
       "      <td>4</td>\n",
       "      <td></td>\n",
       "      <td>...</td>\n",
       "      <td>1.0</td>\n",
       "      <td>23.31</td>\n",
       "      <td></td>\n",
       "      <td></td>\n",
       "      <td>H</td>\n",
       "      <td>NaN</td>\n",
       "      <td>98</td>\n",
       "      <td>1</td>\n",
       "      <td>C:C:4:A</td>\n",
       "      <td>C:C:4:A</td>\n",
       "    </tr>\n",
       "    <tr>\n",
       "      <th>95</th>\n",
       "      <td>ATOM</td>\n",
       "      <td>127</td>\n",
       "      <td></td>\n",
       "      <td>H42</td>\n",
       "      <td>A</td>\n",
       "      <td>C</td>\n",
       "      <td></td>\n",
       "      <td>C</td>\n",
       "      <td>4</td>\n",
       "      <td></td>\n",
       "      <td>...</td>\n",
       "      <td>1.0</td>\n",
       "      <td>23.31</td>\n",
       "      <td></td>\n",
       "      <td></td>\n",
       "      <td>H</td>\n",
       "      <td>NaN</td>\n",
       "      <td>99</td>\n",
       "      <td>1</td>\n",
       "      <td>C:C:4:A</td>\n",
       "      <td>C:C:4:A</td>\n",
       "    </tr>\n",
       "    <tr>\n",
       "      <th>96</th>\n",
       "      <td>ATOM</td>\n",
       "      <td>128</td>\n",
       "      <td></td>\n",
       "      <td>H5</td>\n",
       "      <td>A</td>\n",
       "      <td>C</td>\n",
       "      <td></td>\n",
       "      <td>C</td>\n",
       "      <td>4</td>\n",
       "      <td></td>\n",
       "      <td>...</td>\n",
       "      <td>1.0</td>\n",
       "      <td>21.63</td>\n",
       "      <td></td>\n",
       "      <td></td>\n",
       "      <td>H</td>\n",
       "      <td>NaN</td>\n",
       "      <td>100</td>\n",
       "      <td>1</td>\n",
       "      <td>C:C:4:A</td>\n",
       "      <td>C:C:4:A</td>\n",
       "    </tr>\n",
       "    <tr>\n",
       "      <th>97</th>\n",
       "      <td>ATOM</td>\n",
       "      <td>129</td>\n",
       "      <td></td>\n",
       "      <td>H6</td>\n",
       "      <td>A</td>\n",
       "      <td>C</td>\n",
       "      <td></td>\n",
       "      <td>C</td>\n",
       "      <td>4</td>\n",
       "      <td></td>\n",
       "      <td>...</td>\n",
       "      <td>1.0</td>\n",
       "      <td>21.44</td>\n",
       "      <td></td>\n",
       "      <td></td>\n",
       "      <td>H</td>\n",
       "      <td>NaN</td>\n",
       "      <td>101</td>\n",
       "      <td>1</td>\n",
       "      <td>C:C:4:A</td>\n",
       "      <td>C:C:4:A</td>\n",
       "    </tr>\n",
       "  </tbody>\n",
       "</table>\n",
       "<p>98 rows × 24 columns</p>\n",
       "</div>"
      ],
      "text/plain": [
       "   record_name  atom_number blank_1 atom_name alt_loc residue_name blank_2  \\\n",
       "0         ATOM           32                 P       A            G           \n",
       "1         ATOM           33               OP1       A            G           \n",
       "2         ATOM           34               OP2       A            G           \n",
       "3         ATOM           35               O5'       A            G           \n",
       "4         ATOM           36               C5'       A            G           \n",
       "..         ...          ...     ...       ...     ...          ...     ...   \n",
       "93        ATOM          125               H1'       A            C           \n",
       "94        ATOM          126               H41       A            C           \n",
       "95        ATOM          127               H42       A            C           \n",
       "96        ATOM          128                H5       A            C           \n",
       "97        ATOM          129                H6       A            C           \n",
       "\n",
       "   chain_id  residue_number insertion  ... occupancy  b_factor  blank_4  \\\n",
       "0         C               2            ...       1.0     23.09            \n",
       "1         C               2            ...       1.0     23.37            \n",
       "2         C               2            ...       1.0     21.92            \n",
       "3         C               2            ...       1.0     22.52            \n",
       "4         C               2            ...       1.0     21.48            \n",
       "..      ...             ...       ...  ...       ...       ...      ...   \n",
       "93        C               4            ...       1.0     21.33            \n",
       "94        C               4            ...       1.0     23.31            \n",
       "95        C               4            ...       1.0     23.31            \n",
       "96        C               4            ...       1.0     21.63            \n",
       "97        C               4            ...       1.0     21.44            \n",
       "\n",
       "    segment_id  element_symbol  charge line_idx model_id  node_id  residue_id  \n",
       "0                            P     NaN        4        1  C:G:2:A     C:G:2:A  \n",
       "1                            O     NaN        5        1  C:G:2:A     C:G:2:A  \n",
       "2                            O     NaN        6        1  C:G:2:A     C:G:2:A  \n",
       "3                            O     NaN        7        1  C:G:2:A     C:G:2:A  \n",
       "4                            C     NaN        8        1  C:G:2:A     C:G:2:A  \n",
       "..         ...             ...     ...      ...      ...      ...         ...  \n",
       "93                           H     NaN       97        1  C:C:4:A     C:C:4:A  \n",
       "94                           H     NaN       98        1  C:C:4:A     C:C:4:A  \n",
       "95                           H     NaN       99        1  C:C:4:A     C:C:4:A  \n",
       "96                           H     NaN      100        1  C:C:4:A     C:C:4:A  \n",
       "97                           H     NaN      101        1  C:C:4:A     C:C:4:A  \n",
       "\n",
       "[98 rows x 24 columns]"
      ]
     },
     "execution_count": 191,
     "metadata": {},
     "output_type": "execute_result"
    }
   ],
   "source": [
    "label_node_id(df, granularity='CA')"
   ]
  },
  {
   "cell_type": "code",
   "execution_count": 192,
   "metadata": {},
   "outputs": [
    {
     "data": {
      "text/plain": [
       "array(['P', 'OP1', 'OP2', \"O5'\", \"C5'\", \"C4'\", \"O4'\", \"C3'\", \"O3'\", \"C2'\",\n",
       "       \"O2'\", \"C1'\", 'N9', 'C8', 'N7', 'C5', 'C6', 'O6', 'N1', 'C2', 'N2',\n",
       "       'N3', 'C4', \"H5'\", \"H5''\", \"H4'\", \"H3'\", \"H2'\", \"HO2'\", \"H1'\",\n",
       "       'H8', 'H1', 'H21', 'H22', 'N6', 'H61', 'H62', 'H2', 'O2', 'N4',\n",
       "       'H41', 'H42', 'H5', 'H6'], dtype=object)"
      ]
     },
     "execution_count": 192,
     "metadata": {},
     "output_type": "execute_result"
    }
   ],
   "source": [
    "df['atom_name'].unique()"
   ]
  },
  {
   "cell_type": "code",
   "execution_count": 186,
   "metadata": {},
   "outputs": [],
   "source": [
    "process_df = process_dataframe(df)\n"
   ]
  },
  {
   "cell_type": "code",
   "execution_count": 190,
   "metadata": {},
   "outputs": [
    {
     "data": {
      "text/plain": [
       "array(['A'], dtype=object)"
      ]
     },
     "execution_count": 190,
     "metadata": {},
     "output_type": "execute_result"
    }
   ],
   "source": [
    "df['alt_loc'].unique()"
   ]
  },
  {
   "cell_type": "code",
   "execution_count": 181,
   "metadata": {},
   "outputs": [
    {
     "data": {
      "text/html": [
       "<div>\n",
       "<style scoped>\n",
       "    .dataframe tbody tr th:only-of-type {\n",
       "        vertical-align: middle;\n",
       "    }\n",
       "\n",
       "    .dataframe tbody tr th {\n",
       "        vertical-align: top;\n",
       "    }\n",
       "\n",
       "    .dataframe thead th {\n",
       "        text-align: right;\n",
       "    }\n",
       "</style>\n",
       "<table border=\"1\" class=\"dataframe\">\n",
       "  <thead>\n",
       "    <tr style=\"text-align: right;\">\n",
       "      <th></th>\n",
       "      <th>record_name</th>\n",
       "      <th>atom_number</th>\n",
       "      <th>blank_1</th>\n",
       "      <th>atom_name</th>\n",
       "      <th>alt_loc</th>\n",
       "      <th>residue_name</th>\n",
       "      <th>blank_2</th>\n",
       "      <th>chain_id</th>\n",
       "      <th>residue_number</th>\n",
       "      <th>insertion</th>\n",
       "      <th>...</th>\n",
       "      <th>occupancy</th>\n",
       "      <th>b_factor</th>\n",
       "      <th>blank_4</th>\n",
       "      <th>segment_id</th>\n",
       "      <th>element_symbol</th>\n",
       "      <th>charge</th>\n",
       "      <th>line_idx</th>\n",
       "      <th>model_id</th>\n",
       "      <th>node_id</th>\n",
       "      <th>residue_id</th>\n",
       "    </tr>\n",
       "  </thead>\n",
       "  <tbody>\n",
       "  </tbody>\n",
       "</table>\n",
       "<p>0 rows × 24 columns</p>\n",
       "</div>"
      ],
      "text/plain": [
       "Empty DataFrame\n",
       "Columns: [record_name, atom_number, blank_1, atom_name, alt_loc, residue_name, blank_2, chain_id, residue_number, insertion, blank_3, x_coord, y_coord, z_coord, occupancy, b_factor, blank_4, segment_id, element_symbol, charge, line_idx, model_id, node_id, residue_id]\n",
       "Index: []\n",
       "\n",
       "[0 rows x 24 columns]"
      ]
     },
     "execution_count": 181,
     "metadata": {},
     "output_type": "execute_result"
    }
   ],
   "source": [
    "process_df"
   ]
  },
  {
   "cell_type": "code",
   "execution_count": 48,
   "metadata": {},
   "outputs": [],
   "source": [
    "def scatter_plots(input_data, filename, axis_min=None, axis_max=None, set_title=None, number_of_elements=None):\n",
    "    if input_data.ndim == 1:\n",
    "        # If input is 1D, reshape it to 2D\n",
    "        input_data = input_data.reshape(1, -1)\n",
    "    \n",
    "    n = input_data.shape[1]\n",
    "    if n < 2:\n",
    "        print(f\"Warning: Cannot create scatter plot for data with {n} dimensions.\")\n",
    "        return\n",
    "\n",
    "    if number_of_elements is None:\n",
    "        number_of_elements = input_data.shape[0]\n",
    "\n",
    "    fig = plt.figure(figsize=(20, 20))\n",
    "    fig.suptitle(set_title, fontsize=16)"
   ]
  },
  {
   "cell_type": "code",
   "execution_count": 168,
   "metadata": {},
   "outputs": [
    {
     "name": "stdout",
     "output_type": "stream",
     "text": [
      "Dimension: 4 Mode: None\n",
      "Starting fit... \n",
      "done! Exit code: 1 \n",
      " [ 0.12007205  0.12141639 -0.94029535 -0.29442386]\n",
      "Starting fit... \n",
      "done! Exit code: 1 \n",
      " [ 0.12007203  0.12141628 -0.94029485 -0.29442553]\n",
      "Starting fit... \n",
      "done! Exit code: 1 \n",
      " [ 0.12007538  0.12140699 -0.94022458 -0.29465232]\n",
      "Starting fit... \n",
      "done! Exit code: 1 \n",
      " [-0.12007178 -0.12141702  0.94030024  0.29440811]\n",
      "Starting fit... \n",
      "done! Exit code: 1 \n",
      " [ 0.12007163  0.12141731 -0.94030287 -0.29439966]\n",
      "Starting fit... \n",
      "done! Exit code: 1 \n",
      " [ 0.12007584  0.12140573 -0.94021498 -0.29468329]\n",
      "Dimension: 3 Mode: None\n",
      "Starting fit... \n",
      "done! Exit code: 1 \n",
      " [ 0.08462291 -0.89745404  0.43291478]\n",
      "Starting fit... \n",
      "done! Exit code: 1 \n",
      " [ 0.08461962 -0.89745452  0.43291443]\n",
      "Starting fit... \n",
      "done! Exit code: 1 \n",
      " [ 0.08460746 -0.8974563   0.43291312]\n",
      "Starting fit... \n",
      "done! Exit code: 1 \n",
      " [-0.08437735  0.89749    -0.43288817]\n",
      "Starting fit... \n",
      "done! Exit code: 1 \n",
      " [ 0.08439689 -0.89748714  0.43289028]\n"
     ]
    }
   ],
   "source": [
    "np.random.seed(42)\n",
    "data = np.random.rand(100, 3) * 360  # 100 points, 7 dimensions\n",
    "\n",
    "# Prepare data for PNS\n",
    "sphere_points, means, half = RESHify_1D(data, False)\n",
    "\n",
    "# Run PNS\n",
    "spheres, projected_points, distances = pns_loop(sphere_points, 10, 10, degenerate=False, verbose=True, half=half) #, mode='torus'\n"
   ]
  },
  {
   "cell_type": "code",
   "execution_count": 172,
   "metadata": {},
   "outputs": [
    {
     "data": {
      "text/plain": [
       "array([[  1.        , 320.06989004,  15.33592451],\n",
       "       [  2.        , 341.87808848,  16.23856915],\n",
       "       [  0.        ,  90.74519845,  16.60523592]])"
      ]
     },
     "execution_count": 172,
     "metadata": {},
     "output_type": "execute_result"
    }
   ],
   "source": [
    "means"
   ]
  },
  {
   "cell_type": "code",
   "execution_count": 169,
   "metadata": {},
   "outputs": [
    {
     "name": "stdout",
     "output_type": "stream",
     "text": [
      "Original data shape: (100, 3)\n",
      "Projected points shapes:\n",
      "  Level 0: (100, 3)\n",
      "  Level 1: (100, 2)\n",
      "  Level 2: (2,)\n"
     ]
    }
   ],
   "source": [
    "# Print some results\n",
    "print(\"Original data shape:\", data.shape)\n",
    "print(\"Projected points shapes:\")\n",
    "for i, points in enumerate(projected_points):\n",
    "    print(f\"  Level {i}: {points.shape}\")\n"
   ]
  },
  {
   "cell_type": "code",
   "execution_count": 175,
   "metadata": {},
   "outputs": [],
   "source": [
    "from math import sqrt, radians, degrees\n",
    "PI = np.pi\n",
    "RAD = radians(1)\n",
    "DEG = degrees(1)\n",
    "EPS = 1e-10\n",
    "\n",
    "def angle_shift (angles):\n",
    "    shift = np.zeros(len(angles))\n",
    "    for line in angles:\n",
    "        shift[int(line[0])] = line[1]\n",
    "    #print((shift+ 180e6).astype(int))\n",
    "    return shift\n",
    "\n",
    "def unRESHify_1D (data, angles, half):\n",
    "    tmp = data.copy()\n",
    "    angle_tmp = np.zeros(data.shape)\n",
    "    n = data.shape[1]-1\n",
    "    for i in range(n):\n",
    "        for j in range(i):\n",
    "            tmp[:,i] /= np.sin(angle_tmp[:,j]).clip(EPS, 1)\n",
    "        angle_tmp[:,i] = np.arccos(tmp[:,i].clip(-1,1))\n",
    "    for j in range(n-1):\n",
    "        tmp[:,-1] /= np.sin(angle_tmp[:,j]).clip(EPS, 1)\n",
    "    angle_tmp[:,-2] = (2 * PI + np.arctan2(tmp[:,-1], tmp[:,-2])) % (2 * PI)\n",
    "    angle_tmp = angle_tmp[:,:-1] * DEG + 270\n",
    "    angle_tmp[:,:-1] *= (2 if half else 1)\n",
    "    angle_data = np.zeros(angle_tmp.shape)\n",
    "    for i in range(n):\n",
    "        angle_data[:,int(angles[2][0])] = angle_tmp[:,i]\n",
    "    angle_data = (angle_data + angle_shift(angles)) % 360\n",
    "    return angle_data"
   ]
  },
  {
   "cell_type": "code",
   "execution_count": 176,
   "metadata": {},
   "outputs": [
    {
     "name": "stdout",
     "output_type": "stream",
     "text": [
      "Unfolded data shape: (100, 3)\n"
     ]
    }
   ],
   "source": [
    "unfolded_data = unRESHify_1D(projected_points[-2], means, half)\n",
    "print(\"Unfolded data shape:\", unfolded_data.shape)"
   ]
  },
  {
   "cell_type": "code",
   "execution_count": 178,
   "metadata": {},
   "outputs": [],
   "source": [
    "# Plot the results\n",
    "scatter_plots(data, filename='original_data', axis_min=0, axis_max=360, \n",
    "            set_title='Original Data', number_of_elements=None)\n",
    "scatter_plots(unfolded_data, filename='unfolded_data', axis_min=0, axis_max=360, \n",
    "            set_title='Unfolded Data', number_of_elements=None)"
   ]
  },
  {
   "cell_type": "code",
   "execution_count": 166,
   "metadata": {},
   "outputs": [],
   "source": [
    "# Plot the final projection\n",
    "final_projection = projected_points[-1]\n",
    "if final_projection.ndim == 1:\n",
    "    final_projection = final_projection.reshape(1, -1)\n",
    "scatter_plots(final_projection, filename='final_projection', \n",
    "            set_title='Final Projection', number_of_elements=None)"
   ]
  },
  {
   "cell_type": "code",
   "execution_count": 167,
   "metadata": {},
   "outputs": [
    {
     "data": {
      "text/plain": [
       "array([[-0.10136114,  0.9948497 ]])"
      ]
     },
     "execution_count": 167,
     "metadata": {},
     "output_type": "execute_result"
    }
   ],
   "source": [
    "final_projection"
   ]
  },
  {
   "cell_type": "code",
   "execution_count": null,
   "metadata": {},
   "outputs": [],
   "source": []
  }
 ],
 "metadata": {
  "kernelspec": {
   "display_name": "base",
   "language": "python",
   "name": "python3"
  },
  "language_info": {
   "codemirror_mode": {
    "name": "ipython",
    "version": 3
   },
   "file_extension": ".py",
   "mimetype": "text/x-python",
   "name": "python",
   "nbconvert_exporter": "python",
   "pygments_lexer": "ipython3",
   "version": "3.11.3"
  }
 },
 "nbformat": 4,
 "nbformat_minor": 2
}
