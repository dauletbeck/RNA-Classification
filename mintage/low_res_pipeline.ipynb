{
 "cells": [
  {
   "cell_type": "code",
   "execution_count": 7,
   "metadata": {},
   "outputs": [],
   "source": [
    "from parsing.parse_functions import parse_pdb_files\n",
    "import numpy as np\n",
    "import matplotlib.pyplot as plt\n",
    "from matplotlib.patches import Circle\n",
    "import matplotlib\n",
    "from matplotlib.patches import Circle\n",
    "from mpl_toolkits.mplot3d import Axes3D   # noqa: F401  (needed for 3-D projection)\n",
    "from scipy.cluster.hierarchy import average as average_linkage\n",
    "from scipy.cluster.hierarchy import single as single_linkage\n",
    "from scipy.cluster.hierarchy import fcluster\n",
    "# for computing the distance matrix:\n",
    "from scipy.spatial.distance import pdist, squareform\n",
    "import pickle\n",
    "import os\n",
    "\n",
    "from utils.scale_low_res_coordinates import scale_low_res_coords\n",
    "from utils.pucker_data_functions import determine_pucker_data\n",
    "from shape_analysis import pre_clustering\n",
    "from utils.pucker_data_functions import sort_data_into_cluster\n",
    "from pnds.PNDS_RNA_clustering import new_multi_slink\n",
    "from utils import plot_functions"
   ]
  },
  {
   "cell_type": "code",
   "execution_count": 2,
   "metadata": {},
   "outputs": [],
   "source": [
    "input_pdb_dir = \"/Users/kaisardauletbek/Documents/GitHub/RNA-Classification/data/rna2020_pruned_pdbs/\"\n",
    "suites = parse_pdb_files(input_pdb_dir, input_pdb_folder=input_pdb_dir)\n",
    "\n",
    "puckers = ['c2c2', 'c2c3', 'c3c2', 'c3c3']\n",
    "pucker_indices = {}\n",
    "for pucker in puckers:\n",
    "    indices, _ = determine_pucker_data(suites, pucker)\n",
    "    pucker_indices[pucker] = indices\n",
    "\n",
    "# -- ensure every index array is really integer-typed  -----------------\n",
    "pucker_indices = {k: np.asarray(v, dtype=np.intp)    # <-- np.intp = “platform int”\n",
    "                  for k, v in pucker_indices.items()}\n"
   ]
  },
  {
   "cell_type": "code",
   "execution_count": 3,
   "metadata": {},
   "outputs": [
    {
     "data": {
      "text/plain": [
       "{'c2c2': array([  16,   17,   52,   84,  174,  179,  202,  206,  308,  309,  341,\n",
       "         500,  563,  574,  599,  642,  651,  652,  666,  800,  806,  807,\n",
       "         808,  831,  841,  905, 1077, 1120, 1152, 1262, 1287, 1291, 1293,\n",
       "        1294, 1312, 1313, 1352, 1394, 1395, 1396, 1417, 1458, 1476, 1477,\n",
       "        1521, 1522, 1524, 1547, 1548, 1549, 1550, 1572, 1601, 1602, 1603,\n",
       "        1610, 1694, 1764, 1765, 1772, 1789, 1842, 1846, 1847, 1852, 1928,\n",
       "        1984, 1990, 2038, 2093, 2094, 2100, 2116, 2123, 2175, 2191, 2210,\n",
       "        2238, 2257, 2258, 2277, 2278, 2279, 2285, 2307, 2316, 2317, 2330,\n",
       "        2332, 2336, 2342, 2403, 2404, 2410, 2442, 2443, 2491, 2503, 2504,\n",
       "        2535, 2545, 2548, 2549, 2578, 2676, 2758, 2926, 2932, 2938, 2939,\n",
       "        2982, 3051, 3060, 3097, 3116, 3138, 3242, 3267, 3268, 3319, 3444,\n",
       "        3445, 3446, 3539, 3592, 3645, 3646, 3682, 3683, 3684, 3874, 3875,\n",
       "        3888, 3909, 3919, 3930, 3958, 4131]),\n",
       " 'c2c3': array([  53,   64,   75,   85,   96,  172,  177,  180,  203,  207,  233,\n",
       "         284,  342,  357,  395,  402,  421,  522,  527,  559,  564,  575,\n",
       "         600,  614,  653,  667,  726,  731,  734,  747,  801,  809,  816,\n",
       "         832,  941,  951,  960,  983,  984,  987, 1059, 1069, 1075, 1078,\n",
       "        1118, 1121, 1153, 1170, 1180, 1208, 1211, 1263, 1314, 1353, 1397,\n",
       "        1442, 1455, 1456, 1478, 1485, 1490, 1492, 1494, 1510, 1512, 1513,\n",
       "        1516, 1523, 1551, 1559, 1567, 1605, 1642, 1656, 1683, 1685, 1714,\n",
       "        1739, 1766, 1781, 1790, 1792, 1804, 1822, 1830, 1843, 1848, 1863,\n",
       "        1866, 1959, 1985, 2039, 2061, 2068, 2095, 2101, 2144, 2147, 2194,\n",
       "        2203, 2215, 2239, 2259, 2286, 2293, 2301, 2308, 2312, 2318, 2331,\n",
       "        2343, 2444, 2454, 2465, 2486, 2498, 2505, 2510, 2524, 2546, 2550,\n",
       "        2570, 2575, 2579, 2587, 2595, 2602, 2619, 2624, 2629, 2639, 2645,\n",
       "        2661, 2677, 2685, 2692, 2698, 2709, 2718, 2732, 2747, 2757, 2760,\n",
       "        2765, 2777, 2780, 2787, 2807, 2831, 2867, 2881, 2890, 2933, 2940,\n",
       "        2970, 2980, 2983, 3067, 3101, 3134, 3139, 3153, 3159, 3196, 3262,\n",
       "        3269, 3289, 3299, 3320, 3345, 3372, 3383, 3402, 3404, 3410, 3422,\n",
       "        3424, 3447, 3451, 3466, 3508, 3540, 3554, 3564, 3568, 3577, 3593,\n",
       "        3643, 3685, 3694, 3763, 3790, 3793, 3802, 3844, 3850, 3856, 3863,\n",
       "        3881, 3889, 3898, 3899, 3920, 3946, 3959, 3977, 3982, 3988, 3999,\n",
       "        4010, 4021, 4044, 4053, 4055, 4090, 4106, 4113, 4129, 4132, 4141,\n",
       "        4162]),\n",
       " 'c3c2': array([  12,   23,   27,   51,   63,   72,   74,   95,  173,  190,  201,\n",
       "         221,  232,  283,  343,  356,  369,  394,  446,  521,  530,  535,\n",
       "         546,  552,  562,  573,  610,  624,  641,  650,  665,  668,  725,\n",
       "         728,  730,  733,  799,  805,  815,  820,  830,  840,  851,  900,\n",
       "         909,  940,  959,  970,  982,  986, 1058, 1068, 1074, 1076, 1117,\n",
       "        1125, 1151, 1169, 1179, 1207, 1210, 1234, 1239, 1261, 1264, 1265,\n",
       "        1281, 1290, 1311, 1351, 1388, 1393, 1416, 1443, 1454, 1457, 1470,\n",
       "        1475, 1483, 1484, 1489, 1493, 1509, 1511, 1515, 1546, 1558, 1604,\n",
       "        1608, 1641, 1673, 1682, 1684, 1707, 1713, 1718, 1737, 1738, 1763,\n",
       "        1771, 1779, 1821, 1841, 1845, 1851, 1862, 1919, 1927, 1948, 1965,\n",
       "        1989, 2062, 2067, 2079, 2087, 2091, 2092, 2107, 2143, 2146, 2181,\n",
       "        2193, 2202, 2209, 2214, 2237, 2256, 2284, 2292, 2300, 2306, 2315,\n",
       "        2329, 2335, 2353, 2402, 2409, 2441, 2453, 2464, 2485, 2490, 2509,\n",
       "        2534, 2544, 2547, 2554, 2559, 2569, 2577, 2594, 2601, 2638, 2644,\n",
       "        2660, 2675, 2691, 2697, 2705, 2708, 2736, 2806, 2834, 2902, 2921,\n",
       "        2925, 2931, 2937, 2942, 2964, 2969, 2971, 2979, 2981, 2994, 2999,\n",
       "        3014, 3019, 3036, 3059, 3066, 3072, 3096, 3100, 3115, 3133, 3137,\n",
       "        3143, 3152, 3158, 3162, 3195, 3203, 3241, 3244, 3261, 3266, 3288,\n",
       "        3298, 3308, 3318, 3330, 3344, 3367, 3371, 3382, 3401, 3403, 3409,\n",
       "        3421, 3423, 3443, 3450, 3456, 3465, 3473, 3516, 3538, 3553, 3563,\n",
       "        3567, 3576, 3591, 3625, 3642, 3681, 3693, 3698, 3718, 3758, 3762,\n",
       "        3771, 3789, 3800, 3801, 3843, 3846, 3847, 3848, 3855, 3873, 3880,\n",
       "        3887, 3897, 3908, 3929, 3945, 3957, 3971, 3972, 3976, 3981, 3987,\n",
       "        4020, 4022, 4043, 4052, 4054, 4089, 4105, 4116, 4128, 4130, 4140,\n",
       "        4153, 4155, 4161, 4188, 4203]),\n",
       " 'c3c3': array([   0,    1,    2, ..., 4210, 4211, 4212])}"
      ]
     },
     "execution_count": 3,
     "metadata": {},
     "output_type": "execute_result"
    }
   ],
   "source": [
    "pucker_indices"
   ]
  },
  {
   "cell_type": "code",
   "execution_count": 4,
   "metadata": {},
   "outputs": [],
   "source": [
    "# ---------------------------------------------------------------------------\n",
    "# helpers\n",
    "# ---------------------------------------------------------------------------\n",
    "def spherical_to_vec(theta_deg: np.ndarray, phi_deg: np.ndarray) -> np.ndarray:\n",
    "    t, p = np.radians(theta_deg), np.radians(phi_deg)\n",
    "    return np.column_stack([np.sin(t) * np.cos(p),\n",
    "                            np.sin(t) * np.sin(p),\n",
    "                            np.cos(t)])\n",
    "\n",
    "def arc_distance(a: np.ndarray, b: float) -> np.ndarray:\n",
    "    \"\"\"Shortest signed arc distance between vectors of angles a and scalar b (radians).\"\"\"\n",
    "    d = (a - b + np.pi) % (2 * np.pi) - np.pi\n",
    "    return d\n",
    "\n",
    "def exponential_map(V, p):\n",
    "    \"\"\"\n",
    "    V - point cloud N x R^m\n",
    "    p - point of tangency R^m\n",
    "    \"\"\"\n",
    "    N, M = V.shape[0], V.shape[1]\n",
    "    V_mean = V.mean(axis=0)\n",
    "    # check if points are centered at 0, center them\n",
    "    V -= V_mean\n",
    "    V = np.column_stack([V, np.zeros(N)])\n",
    "    V_norm = np.linalg.norm(V, axis=1)[:, None]\n",
    "    \n",
    "    return np.cos(V_norm) * p + np.sin(V_norm) * (V / V_norm)\n",
    "    "
   ]
  },
  {
   "cell_type": "code",
   "execution_count": 5,
   "metadata": {},
   "outputs": [],
   "source": [
    "# scale only the distance‐variance, leave α‐variance and both means alone\n",
    "scaled_coords, lambda_d, lambda_alpha = scale_low_res_coords(\n",
    "    suites,\n",
    "    scale_distance_variance=True,\n",
    "    scale_alpha_variance=False,\n",
    "    preserve_distance_mean=True,\n",
    "    preserve_alpha_mean=True,\n",
    "    store_attr=\"scaled_dvar_only\"\n",
    ")\n",
    "\n",
    "d2_s, d3_s, alpha_s, theta1, phi1, theta2, phi2 = scaled_coords.T\n",
    "N = len(d2_s)"
   ]
  },
  {
   "cell_type": "code",
   "execution_count": 6,
   "metadata": {},
   "outputs": [],
   "source": [
    "x = np.array([d2_s[0], d3_s[0], alpha_s[0], theta1[0], phi1[0], theta2[0], phi2[0]])\n",
    "x_prime = np.array([d2_s[1], d3_s[1], alpha_s[1], theta1[1], phi1[1], theta2[1], phi2[1]])"
   ]
  },
  {
   "cell_type": "code",
   "execution_count": 7,
   "metadata": {},
   "outputs": [
    {
     "data": {
      "text/plain": [
       "20242.6872313057"
      ]
     },
     "execution_count": 7,
     "metadata": {},
     "output_type": "execute_result"
    }
   ],
   "source": [
    "np.dot(x, x_prime)"
   ]
  },
  {
   "cell_type": "code",
   "execution_count": 8,
   "metadata": {},
   "outputs": [],
   "source": [
    "# def get_distance(x, x_prime):\n",
    "#     return np.dot(x, x_prime)\n",
    "\n",
    "# def get_distance_matrix(scaled_coords):\n",
    "#     d2_s, d3_s, alpha_s, theta1, phi1, theta2, phi2 = scaled_coords.T\n",
    "#     N = len(d2_s)\n",
    "#     distance_matrix = np.zeros((N, N))\n",
    "#     for i in range(N):\n",
    "#         for j in range(i+1, N):\n",
    "#             x = np.array([d2_s[i], d3_s[i], alpha_s[i], theta1[i], phi1[i], theta2[i], phi2[i]])\n",
    "#             x_prime = np.array([d2_s[j], d3_s[j], d3_s[j], theta1[j], phi1[j], theta2[j], phi2[j]])\n",
    "#             distance_matrix[i, j] = get_distance(x, x_prime)\n",
    "#     return distance_matrix\n",
    "\n",
    "# # distance_matrix = get_distance_matrix(scaled_coords)\n"
   ]
  },
  {
   "cell_type": "code",
   "execution_count": 9,
   "metadata": {},
   "outputs": [
    {
     "data": {
      "text/plain": [
       "(3585, 7)"
      ]
     },
     "execution_count": 9,
     "metadata": {},
     "output_type": "execute_result"
    }
   ],
   "source": [
    "scaled_coords[pucker_indices['c3c3']].shape"
   ]
  },
  {
   "cell_type": "code",
   "execution_count": 8,
   "metadata": {},
   "outputs": [
    {
     "name": "stdout",
     "output_type": "stream",
     "text": [
      "no shape_space\n",
      "138\n",
      "12.12435565298214\n",
      "87\n",
      "9.797958971132712\n",
      "64\n",
      "8.54400374531753\n",
      "38\n",
      "6.855654600401044\n",
      "12\n",
      "4.58257569495584\n",
      "3.6203055098180523\n",
      "[c2c2] cluster sizes: [51, 26, 26, 23, 12]\n",
      "no shape_space\n",
      "221\n",
      "15.165750888103101\n",
      "169\n",
      "13.341664064126334\n",
      "124\n",
      "11.532562594670797\n",
      "87\n",
      "9.797958971132712\n",
      "51\n",
      "7.745966692414834\n",
      "26\n",
      "5.916079783099616\n",
      "15\n",
      "4.898979485566356\n",
      "6\n",
      "3.872983346207417\n",
      "3.4592907592173328\n",
      "[c2c3] cluster sizes: [52, 45, 37, 36, 25, 11, 9, 6]\n",
      "no shape_space\n",
      "269\n",
      "16.673332000533065\n",
      "209\n",
      "14.7648230602334\n",
      "166\n",
      "13.228756555322953\n",
      "132\n",
      "11.874342087037917\n",
      "99\n",
      "10.392304845413264\n",
      "70\n",
      "8.888194417315589\n",
      "37\n",
      "6.782329983125268\n",
      "23\n",
      "5.656854249492381\n",
      "10\n",
      "4.358898943540674\n",
      "3.705951988674172\n",
      "[c3c2] cluster sizes: [60, 43, 34, 33, 33, 29, 14, 13, 10]\n",
      "no shape_space\n",
      "3585\n",
      "59.94997914928745\n",
      "3447\n",
      "58.787753826796276\n",
      "3309\n",
      "57.60208329565867\n",
      "2352\n",
      "48.590122453025366\n",
      "467\n",
      "21.817424229271428\n",
      "393\n",
      "20.049937655763422\n",
      "200\n",
      "14.45683229480096\n",
      "159\n",
      "12.96148139681572\n",
      "118\n",
      "11.269427669584644\n",
      "60\n",
      "8.306623862918075\n",
      "31\n",
      "6.324555320336759\n",
      "3.7721488065740254\n",
      "[c3c3] cluster sizes: [1885, 957, 193, 138, 138, 74, 58, 41, 41, 31, 29]\n"
     ]
    }
   ],
   "source": [
    "names = ['c3c3', 'c3c2', 'c2c3', 'c2c2', 'all']\n",
    "min_size = 3\n",
    "\n",
    "configurations = [\n",
    "    ('c2c2', 0.02, 0.05),\n",
    "    ('c2c3', 0.02, 0.07),\n",
    "    ('c3c2', 0.02, 0.05),\n",
    "    ('c3c3', 0.02, 0.09),\n",
    "]\n",
    "\n",
    "# Folder to store preclustering results\n",
    "os.makedirs('preclustering_results', exist_ok=True)\n",
    "\n",
    "for name, outlier, qf in configurations:\n",
    "    scaled_coords_by_pucker = scaled_coords[pucker_indices[name]]\n",
    "    \n",
    "    clusters, outliers, _ = pre_clustering(\n",
    "        input_data = scaled_coords_by_pucker,\n",
    "        m = min_size,\n",
    "        percentage = 0.0,  # or outlier if needed\n",
    "        string_folder = \"out/clustering_low_res\",\n",
    "        method = average_linkage,\n",
    "        q_fold = qf,\n",
    "        distance = \"low_res_suite_shape\"\n",
    "    )\n",
    "\n",
    "    # Save precluster results to .pkl\n",
    "    result = {\n",
    "        'name': name,\n",
    "        'clusters': clusters,\n",
    "        'outliers': outliers,\n",
    "        'scaled_coords': scaled_coords_by_pucker\n",
    "    }\n",
    "    with open(f'preclustering_results/{name}_precluster.pkl', 'wb') as f:\n",
    "        pickle.dump(result, f)\n",
    "\n",
    "    # Optional: also plot & inspect\n",
    "    sorted_clusters = sorted(clusters, key=len, reverse=True)\n",
    "    cluster_sizes = [len(c) for c in sorted_clusters]\n",
    "    print(f\"[{name}] cluster sizes:\", cluster_sizes)\n",
    "\n",
    "    data_by_cluster, _ = sort_data_into_cluster(scaled_coords_by_pucker, sorted_clusters, min_size)\n",
    "    plot_functions.scatter_plots(\n",
    "        data_by_cluster,\n",
    "        filename=f\"low_res_suite_shape_average_linkage_{name}\",\n",
    "        set_title=f\"low_res_suite_shape_average_linkage {name}\",\n",
    "        suite_titles=[r'$d_2$', r'$d_3$', r'$\\alpha$', r'$\\theta_1$', r'$\\phi_1$', r'$\\theta_2$', r'$\\phi_2$'],\n",
    "        list_ranges=[[3,5.5],[4,6.5],[0,180],[0,180],[-180,180],[0,180],[-180,180]],\n",
    "        number_of_elements=cluster_sizes,\n",
    "        legend=True,\n",
    "        s=20\n",
    "    )\n"
   ]
  },
  {
   "cell_type": "code",
   "execution_count": null,
   "metadata": {},
   "outputs": [],
   "source": [
    "min_size = 3\n",
    "scale = 12000\n",
    "\n",
    "# Where you saved them\n",
    "result_dir = 'preclustering_results'\n",
    "\n",
    "mode_clusters_res = []\n",
    "\n",
    "for filename in os.listdir(result_dir):\n",
    "    if filename.endswith('_precluster.pkl'):\n",
    "        # Load\n",
    "        with open(os.path.join(result_dir, filename), 'rb') as f:\n",
    "            result = pickle.load(f)\n",
    "\n",
    "        name = result['name']\n",
    "        clusters = result['clusters']\n",
    "        outliers = result['outliers']\n",
    "        scaled_coords_by_pucker = result['scaled_coords']\n",
    "\n",
    "        # Map to sphere and angles for PNS input\n",
    "        d2_s, d3_s, alpha_s, theta1, phi1, theta2, phi2 = scaled_coords_by_pucker.T\n",
    "        V = np.column_stack([d2_s, d3_s])\n",
    "        S2_pts = exponential_map(V, p=np.array([0,0,1]))\n",
    "        x, y, z = S2_pts.T\n",
    "\n",
    "        r = np.linalg.norm(S2_pts, axis=1)\n",
    "        theta_e_deg = np.degrees(np.arccos(np.clip(z/r, -1, 1)))\n",
    "        phi_e_deg = (np.degrees(np.arctan2(y, x)) + 360.0) % 360.0\n",
    "\n",
    "        angle_matrix = np.column_stack([\n",
    "            theta_e_deg,\n",
    "            phi_e_deg,\n",
    "            alpha_s,\n",
    "            theta1,\n",
    "            phi1,\n",
    "            theta2,\n",
    "            phi2\n",
    "        ])\n",
    "\n",
    "        # Run PNS-based clustering\n",
    "        mode_clusters, _ = new_multi_slink(\n",
    "            scale=scale,\n",
    "            data=angle_matrix,\n",
    "            cluster_list=clusters,\n",
    "            outlier_list=outliers,\n",
    "            min_cluster_size=min_size\n",
    "        )\n",
    "\n",
    "        mode_clusters_res.append({\n",
    "            'name': name,\n",
    "            'mode_clusters': mode_clusters\n",
    "        })\n",
    "\n",
    "        print(f\"[{name}] mode clusters done: {len(mode_clusters)} clusters\")\n",
    "\n",
    "# You can save final mode_clusters_res if needed\n",
    "with open('mode_clusters_results.pkl', 'wb') as f:\n",
    "    pickle.dump(mode_clusters_res, f)\n"
   ]
  },
  {
   "cell_type": "code",
   "execution_count": null,
   "metadata": {},
   "outputs": [
    {
     "name": "stdout",
     "output_type": "stream",
     "text": [
      "no shape_space\n",
      "138\n",
      "12.12435565298214\n",
      "87\n",
      "9.797958971132712\n",
      "64\n",
      "8.54400374531753\n",
      "38\n",
      "6.855654600401044\n",
      "12\n",
      "4.58257569495584\n",
      "3.6203055098180523\n",
      "[51, 26, 26, 23, 12]\n"
     ]
    }
   ],
   "source": [
    "# names = ['c3c3', 'c3c2', 'c2c3', 'c2c2', 'all']\n",
    "# min_size = 3\n",
    "# configurations = [\n",
    "#     ('c2c2', 0.02, 0.05),\n",
    "#     ('c2c3', 0.02, 0.07),\n",
    "#     ('c3c2', 0.02, 0.05),\n",
    "#     ('c3c3', 0.02, 0.09),\n",
    "# ]\n",
    "# # try 0.001 increment for qf\n",
    "# precluster_results = []\n",
    "# mode_clusters_res = []\n",
    "# for name, outlier, qf in configurations:\n",
    "#     scaled_coords_by_pucker = scaled_coords[pucker_indices[name]]\n",
    "#     clusters, outliers, _ = pre_clustering(\n",
    "#     input_data = scaled_coords_by_pucker,\n",
    "#     m = min_size, # min_cluster_size\n",
    "#     percentage = 0.0,#outlier, # for d_max computation\n",
    "#     string_folder = \"out/clustering_low_res\",\n",
    "#     # method = average_linkage,\n",
    "#     method = average_linkage,\n",
    "#     q_fold = qf,\n",
    "#     distance = \"low_res_suite_shape\"\n",
    "#     )\n",
    "#     precluster_results.append({\n",
    "#         'name': name,\n",
    "#         'clusters': clusters,\n",
    "#         'outliers': outliers,\n",
    "#         'scaled_coords': scaled_coords_by_pucker\n",
    "#     })\n",
    "#     sorted_clusters = clusters\n",
    "#     sorted_clusters = sorted(sorted_clusters, key=len, reverse=True)\n",
    "#     cluster_sizes = [len(c) for c in sorted_clusters]\n",
    "#     print(cluster_sizes)\n",
    "#     data_by_cluster, _ = sort_data_into_cluster(scaled_coords_by_pucker, sorted_clusters, min_size)\n",
    "#     # Plot dihedral clusters\n",
    "#     qfold_dir = \"out/clustering_low_res/qfold_plots\"\n",
    "#     # ensure_dir(qfold_dir)\n",
    "#     plot_functions.scatter_plots(\n",
    "#         data_by_cluster,\n",
    "#         filename=\"low_res_suite_shape_average_linkage_\" + name,\n",
    "#         set_title=f\"low_res_suite_shape_average_linkage {name}\",\n",
    "#         suite_titles=[r'$d_2$',r'$d_3$',r'$\\alpha$',r'$\\theta_1$',r'$\\phi_1$',r'$\\theta_2$',r'$\\phi_2$'],\n",
    "#         list_ranges=[[3,5.5],[4,6.5],[0,180],[0,180],[-180,180],[0,180],[-180,180]],\n",
    "#         number_of_elements=cluster_sizes,\n",
    "#         legend=True,\n",
    "#         s=20,\n",
    "#         # legend_with_clustersize=True,\n",
    "#     )\n",
    "\n",
    "#         # scatter_plots(np.vstack(low_resolution_shape_list), filename='c3c3-low-res',\n",
    "#         #           number_of_elements = len_list,\n",
    "#         #           suite_titles=[r'$d_2$',r'$d_3$',r'$\\alpha$',r'$\\theta_1$',r'$\\phi_1$',r'$\\theta_2$',r'$\\phi_2$'],\n",
    "#         #           # color_and_marker_list=[['blue']*len(low_resolution_shapes_test),\n",
    "#         #           #                        ['o']*len(low_resolution_shapes_test)],\n",
    "#         #           list_ranges=[[3,5.5],[4,6.5],[0,180],[0,180],[-180,180],[0,180],[-180,180]],\n",
    "#         #           s=60, fontsize=40)\n",
    "\n",
    "#     d2_s, d3_s, alpha_s, theta1, phi1, theta2, phi2 = scaled_coords_by_pucker.T\n",
    "#     V = np.column_stack([d2_s, d3_s])\n",
    "#     S2_pts = exponential_map(V, p = np.array([0,0,1]))\n",
    "#     x = S2_pts[:, 0]\n",
    "#     y = S2_pts[:, 1]\n",
    "#     z = S2_pts[:, 2]\n",
    "\n",
    "#     # Compute the polar angle θ_e = arccos(z / r), then convert to degrees.\n",
    "#     r = np.linalg.norm(S2_pts, axis=1)                     # Should be ≈1\n",
    "#     theta_e_rad = np.arccos(np.clip(z / r, -1.0, 1.0))      # in radians\n",
    "#     theta_e_deg = np.degrees(theta_e_rad)                  # in [0, 180]\n",
    "\n",
    "#     # Compute the azimuth φ_e = atan2(y, x), then convert to [0, 360) degrees.\n",
    "#     phi_e_rad = np.arctan2(y, x)                            # in (–π, π]\n",
    "#     phi_e_deg = (np.degrees(phi_e_rad) + 360.0) % 360.0     # in [0, 360)\n",
    "\n",
    "#     angle_matrix = np.column_stack([\n",
    "#         theta_e_deg,  # shape (N,)\n",
    "#         phi_e_deg,    # shape (N,)\n",
    "#         alpha_s,      # shape (N,)\n",
    "#         theta1,       # shape (N,)\n",
    "#         phi1,         # shape (N,)\n",
    "#         theta2,       # shape (N,)\n",
    "#         phi2          # shape (N,)\n",
    "#     ])\n",
    "#     mode_clusters, _ = new_multi_slink(\n",
    "#         scale=12000,\n",
    "#         data = angle_matrix,\n",
    "#         cluster_list=clusters,\n",
    "#         outlier_list=outliers,\n",
    "#         min_cluster_size=min_size\n",
    "#     )\n",
    "#     mode_clusters_res.append({\n",
    "#         'name': name,\n",
    "#         'mode_clusters': mode_clusters,\n",
    "#     })\n",
    "\n",
    "\n"
   ]
  },
  {
   "cell_type": "code",
   "execution_count": 7,
   "metadata": {},
   "outputs": [
    {
     "name": "stdout",
     "output_type": "stream",
     "text": [
      "no shape_space\n",
      "3585\n",
      "59.94997914928745\n",
      "193\n",
      "14.212670403551895\n",
      "129\n",
      "11.74734012447073\n",
      "81\n",
      "9.486832980505138\n",
      "46\n",
      "7.416198487095663\n",
      "27\n",
      "6.0\n",
      "13\n",
      "4.69041575982343\n",
      "95.2738993531711\n",
      "Trying q_fold=0.35 for c3c3, found 7 clusters\n",
      "no shape_space\n"
     ]
    },
    {
     "ename": "KeyboardInterrupt",
     "evalue": "",
     "output_type": "error",
     "traceback": [
      "\u001b[0;31m---------------------------------------------------------------------------\u001b[0m",
      "\u001b[0;31mKeyboardInterrupt\u001b[0m                         Traceback (most recent call last)",
      "Cell \u001b[0;32mIn[7], line 17\u001b[0m\n\u001b[1;32m     14\u001b[0m scaled_coords_by_pucker \u001b[38;5;241m=\u001b[39m scaled_coords[pucker_indices[name]]\n\u001b[1;32m     16\u001b[0m \u001b[38;5;28;01mwhile\u001b[39;00m \u001b[38;5;28;01mTrue\u001b[39;00m:\n\u001b[0;32m---> 17\u001b[0m     clusters, outliers, _ \u001b[38;5;241m=\u001b[39m pre_clustering(\n\u001b[1;32m     18\u001b[0m         input_data\u001b[38;5;241m=\u001b[39mscaled_coords_by_pucker,\n\u001b[1;32m     19\u001b[0m         m\u001b[38;5;241m=\u001b[39mmin_size,\n\u001b[1;32m     20\u001b[0m         percentage\u001b[38;5;241m=\u001b[39m\u001b[38;5;241m0.0\u001b[39m,\n\u001b[1;32m     21\u001b[0m         string_folder\u001b[38;5;241m=\u001b[39m\u001b[38;5;124m\"\u001b[39m\u001b[38;5;124mout/clustering_low_res\u001b[39m\u001b[38;5;124m\"\u001b[39m,\n\u001b[1;32m     22\u001b[0m         method\u001b[38;5;241m=\u001b[39maverage_linkage,\n\u001b[1;32m     23\u001b[0m         q_fold\u001b[38;5;241m=\u001b[39mq_fold,\n\u001b[1;32m     24\u001b[0m         distance\u001b[38;5;241m=\u001b[39m\u001b[38;5;124m\"\u001b[39m\u001b[38;5;124mlow_res_suite_shape\u001b[39m\u001b[38;5;124m\"\u001b[39m\n\u001b[1;32m     25\u001b[0m     )\n\u001b[1;32m     27\u001b[0m     \u001b[38;5;28;01mif\u001b[39;00m \u001b[38;5;28mlen\u001b[39m(clusters) \u001b[38;5;241m==\u001b[39m \u001b[38;5;241m5\u001b[39m:\n\u001b[1;32m     28\u001b[0m         optimal_qfold_results\u001b[38;5;241m.\u001b[39mappend({\n\u001b[1;32m     29\u001b[0m             \u001b[38;5;124m'\u001b[39m\u001b[38;5;124mname\u001b[39m\u001b[38;5;124m'\u001b[39m: name,\n\u001b[1;32m     30\u001b[0m             \u001b[38;5;124m'\u001b[39m\u001b[38;5;124moptimal_q_fold\u001b[39m\u001b[38;5;124m'\u001b[39m: q_fold,\n\u001b[1;32m     31\u001b[0m             \u001b[38;5;124m'\u001b[39m\u001b[38;5;124mclusters\u001b[39m\u001b[38;5;124m'\u001b[39m: clusters,\n\u001b[1;32m     32\u001b[0m             \u001b[38;5;124m'\u001b[39m\u001b[38;5;124moutliers\u001b[39m\u001b[38;5;124m'\u001b[39m: outliers\n\u001b[1;32m     33\u001b[0m         })\n",
      "File \u001b[0;32m~/Documents/GitHub/RNA-Classification/mintage/shape_analysis.py:461\u001b[0m, in \u001b[0;36mpre_clustering\u001b[0;34m(input_data, m, percentage, string_folder, method, q_fold, distance)\u001b[0m\n\u001b[1;32m    458\u001b[0m \u001b[38;5;28;01mwhile\u001b[39;00m n \u001b[38;5;241m>\u001b[39m \u001b[38;5;241m0\u001b[39m:\n\u001b[1;32m    459\u001b[0m     \u001b[38;5;66;03m# Step 2:\u001b[39;00m\n\u001b[1;32m    460\u001b[0m     points_reshape \u001b[38;5;241m=\u001b[39m cluster_points\u001b[38;5;241m.\u001b[39mreshape(n, dimension_number)\n\u001b[0;32m--> 461\u001b[0m     distance_points \u001b[38;5;241m=\u001b[39m distance_matrix(points_reshape, distance)  \u001b[38;5;66;03m# again to keep dmax\u001b[39;00m\n\u001b[1;32m    462\u001b[0m     cluster_tree \u001b[38;5;241m=\u001b[39m method(distance_points)\n\u001b[1;32m    463\u001b[0m     \u001b[38;5;66;03m# Step 3:\u001b[39;00m\n",
      "File \u001b[0;32m~/Documents/GitHub/RNA-Classification/mintage/shape_analysis.py:515\u001b[0m, in \u001b[0;36mdistance_matrix\u001b[0;34m(data, distance)\u001b[0m\n\u001b[1;32m    513\u001b[0m     \u001b[38;5;28;01mreturn\u001b[39;00m pdist(data, \u001b[38;5;124m'\u001b[39m\u001b[38;5;124meuclidean\u001b[39m\u001b[38;5;124m'\u001b[39m)\n\u001b[1;32m    514\u001b[0m \u001b[38;5;28;01mif\u001b[39;00m distance \u001b[38;5;241m==\u001b[39m \u001b[38;5;124m'\u001b[39m\u001b[38;5;124mlow_res_suite_shape\u001b[39m\u001b[38;5;124m'\u001b[39m:\n\u001b[0;32m--> 515\u001b[0m     \u001b[38;5;28;01mreturn\u001b[39;00m pdist(data, d_low_res_suite_shape)\n",
      "File \u001b[0;32m~/anaconda3/lib/python3.11/site-packages/scipy/spatial/distance.py:2315\u001b[0m, in \u001b[0;36mpdist\u001b[0;34m(X, metric, out, **kwargs)\u001b[0m\n\u001b[1;32m   2311\u001b[0m     \u001b[38;5;28;01mif\u001b[39;00m metric_info \u001b[38;5;129;01mis\u001b[39;00m \u001b[38;5;129;01mnot\u001b[39;00m \u001b[38;5;28;01mNone\u001b[39;00m:\n\u001b[1;32m   2312\u001b[0m         X, typ, kwargs \u001b[38;5;241m=\u001b[39m _validate_pdist_input(\n\u001b[1;32m   2313\u001b[0m             X, m, n, metric_info, \u001b[38;5;241m*\u001b[39m\u001b[38;5;241m*\u001b[39mkwargs)\n\u001b[0;32m-> 2315\u001b[0m     \u001b[38;5;28;01mreturn\u001b[39;00m _pdist_callable(X, metric\u001b[38;5;241m=\u001b[39mmetric, out\u001b[38;5;241m=\u001b[39mout, \u001b[38;5;241m*\u001b[39m\u001b[38;5;241m*\u001b[39mkwargs)\n\u001b[1;32m   2316\u001b[0m \u001b[38;5;28;01melif\u001b[39;00m \u001b[38;5;28misinstance\u001b[39m(metric, \u001b[38;5;28mstr\u001b[39m):\n\u001b[1;32m   2317\u001b[0m     mstr \u001b[38;5;241m=\u001b[39m metric\u001b[38;5;241m.\u001b[39mlower()\n",
      "File \u001b[0;32m~/anaconda3/lib/python3.11/site-packages/scipy/spatial/distance.py:2771\u001b[0m, in \u001b[0;36m_pdist_callable\u001b[0;34m(X, out, metric, **kwargs)\u001b[0m\n\u001b[1;32m   2769\u001b[0m \u001b[38;5;28;01mfor\u001b[39;00m i \u001b[38;5;129;01min\u001b[39;00m \u001b[38;5;28mrange\u001b[39m(X\u001b[38;5;241m.\u001b[39mshape[\u001b[38;5;241m0\u001b[39m] \u001b[38;5;241m-\u001b[39m \u001b[38;5;241m1\u001b[39m):\n\u001b[1;32m   2770\u001b[0m     \u001b[38;5;28;01mfor\u001b[39;00m j \u001b[38;5;129;01min\u001b[39;00m \u001b[38;5;28mrange\u001b[39m(i \u001b[38;5;241m+\u001b[39m \u001b[38;5;241m1\u001b[39m, X\u001b[38;5;241m.\u001b[39mshape[\u001b[38;5;241m0\u001b[39m]):\n\u001b[0;32m-> 2771\u001b[0m         dm[k] \u001b[38;5;241m=\u001b[39m metric(X[i], X[j], \u001b[38;5;241m*\u001b[39m\u001b[38;5;241m*\u001b[39mkwargs)\n\u001b[1;32m   2772\u001b[0m         k \u001b[38;5;241m+\u001b[39m\u001b[38;5;241m=\u001b[39m \u001b[38;5;241m1\u001b[39m\n\u001b[1;32m   2773\u001b[0m \u001b[38;5;28;01mreturn\u001b[39;00m dm\n",
      "File \u001b[0;32m~/Documents/GitHub/RNA-Classification/mintage/shape_analysis.py:530\u001b[0m, in \u001b[0;36md_low_res_suite_shape\u001b[0;34m(x, y)\u001b[0m\n\u001b[1;32m    528\u001b[0m \u001b[38;5;66;03m# angles to radians\u001b[39;00m\n\u001b[1;32m    529\u001b[0m theta_1_x \u001b[38;5;241m=\u001b[39m np\u001b[38;5;241m.\u001b[39mdeg2rad(theta_1_x)\n\u001b[0;32m--> 530\u001b[0m theta_1_y \u001b[38;5;241m=\u001b[39m np\u001b[38;5;241m.\u001b[39mdeg2rad(theta_1_y)\n\u001b[1;32m    531\u001b[0m phi_1_x \u001b[38;5;241m=\u001b[39m np\u001b[38;5;241m.\u001b[39mdeg2rad(phi_1_x)\n\u001b[1;32m    532\u001b[0m phi_1_y \u001b[38;5;241m=\u001b[39m np\u001b[38;5;241m.\u001b[39mdeg2rad(phi_1_y)\n",
      "\u001b[0;31mKeyboardInterrupt\u001b[0m: "
     ]
    }
   ],
   "source": [
    "names = ['c3c3', 'c3c2', 'c2c3', 'c2c2', 'all']\n",
    "min_size = 3\n",
    "configurations = [\n",
    "    # ('c2c2', 0.02, 0.05),\n",
    "    # ('c2c3', 0.02, 0.07),\n",
    "    # ('c3c2', 0.02, 0.25),\n",
    "    ('c3c3', 0.02, 0.35),\n",
    "]\n",
    "\n",
    "optimal_qfold_results = []\n",
    "\n",
    "for name, outlier, initial_qf in configurations:\n",
    "    q_fold = initial_qf\n",
    "    scaled_coords_by_pucker = scaled_coords[pucker_indices[name]]\n",
    "\n",
    "    while True:\n",
    "        clusters, outliers, _ = pre_clustering(\n",
    "            input_data=scaled_coords_by_pucker,\n",
    "            m=min_size,\n",
    "            percentage=0.0,\n",
    "            string_folder=\"out/clustering_low_res\",\n",
    "            method=average_linkage,\n",
    "            q_fold=q_fold,\n",
    "            distance=\"low_res_suite_shape\"\n",
    "        )\n",
    "\n",
    "        if len(clusters) == 5:\n",
    "            optimal_qfold_results.append({\n",
    "                'name': name,\n",
    "                'optimal_q_fold': q_fold,\n",
    "                'clusters': clusters,\n",
    "                'outliers': outliers\n",
    "            })\n",
    "            print(f\"Optimal q_fold for {name} found: {q_fold}\")\n",
    "            break\n",
    "\n",
    "        print(f\"Trying q_fold={q_fold} for {name}, found {len(clusters)} clusters\")\n",
    "\n",
    "        q_fold += 0.01\n",
    "\n",
    "        if q_fold > 2:  # Arbitrary upper limit to avoid infinite loops\n",
    "            print(f\"No suitable q_fold found for {name}\")\n",
    "            break"
   ]
  },
  {
   "cell_type": "markdown",
   "metadata": {},
   "source": [
    "'name': 'c3c2',\n",
    " 'optimal_q_fold': 0.37,\n",
    "\n",
    "\n",
    " 'name': 'c2c2',\n",
    " 'optimal_q_fold': 0.31,\n",
    "\n",
    " 'name': 'c3c2',\n",
    "  'optimal_q_fold': 0.37,\n",
    "\n",
    "q_fold=0.35 for c3c3, found 7 clusters"
   ]
  },
  {
   "cell_type": "code",
   "execution_count": 10,
   "metadata": {},
   "outputs": [],
   "source": [
    "cluster_sizes = [len(c) for c in sorted_clusters]"
   ]
  },
  {
   "cell_type": "code",
   "execution_count": 86,
   "metadata": {},
   "outputs": [
    {
     "data": {
      "text/plain": [
       "array([[ 4.77551022e+00,  5.19402460e+00,  6.56238856e+01, ...,\n",
       "         2.00563389e+01,  1.00718394e+02, -2.02173404e-03],\n",
       "       [ 4.86420256e+00,  5.62238196e+00,  6.61482139e+01, ...,\n",
       "         2.52582240e+01,  1.00389302e+02,  7.30176475e+00],\n",
       "       [ 4.70480812e+00,  5.29430901e+00,  6.83177486e+01, ...,\n",
       "         2.25628491e+01,  1.13267129e+02,  5.46496333e+00],\n",
       "       ...,\n",
       "       [ 4.77173519e+00,  5.44072768e+00,  6.53622807e+01, ...,\n",
       "         2.07444991e+01,  1.06416258e+02,  2.95847892e+00],\n",
       "       [ 4.86873624e+00,  5.33394914e+00,  6.35468867e+01, ...,\n",
       "         2.36774746e+01,  1.06502848e+02,  1.86457109e+00],\n",
       "       [ 4.78531136e+00,  5.51888026e+00,  6.64054167e+01, ...,\n",
       "         2.21053283e+01,  1.11631624e+02,  7.17826310e+00]])"
      ]
     },
     "execution_count": 86,
     "metadata": {},
     "output_type": "execute_result"
    }
   ],
   "source": [
    "scaled_coords_by_pucker"
   ]
  },
  {
   "cell_type": "code",
   "execution_count": 9,
   "metadata": {},
   "outputs": [],
   "source": [
    "d2_s, d3_s, alpha_s, theta1, phi1, theta2, phi2 = scaled_coords_by_pucker.T"
   ]
  },
  {
   "cell_type": "code",
   "execution_count": 10,
   "metadata": {},
   "outputs": [
    {
     "data": {
      "text/plain": [
       "array([65.62388563, 66.14821392, 68.3177486 , ..., 65.36228073,\n",
       "       63.54688673, 66.40541669])"
      ]
     },
     "execution_count": 10,
     "metadata": {},
     "output_type": "execute_result"
    }
   ],
   "source": [
    "alpha_s"
   ]
  },
  {
   "cell_type": "code",
   "execution_count": 112,
   "metadata": {},
   "outputs": [],
   "source": [
    "V = np.column_stack([d2_s, d3_s])\n",
    "S2_pts = exponential_map(V, p = np.array([0,0,1]))\n",
    "x = S2_pts[:, 0]\n",
    "y = S2_pts[:, 1]\n",
    "z = S2_pts[:, 2]\n",
    "\n",
    "# Compute the polar angle θ_e = arccos(z / r), then convert to degrees.\n",
    "r = np.linalg.norm(S2_pts, axis=1)                     # Should be ≈1\n",
    "theta_e_rad = np.arccos(np.clip(z / r, -1.0, 1.0))      # in radians\n",
    "theta_e_deg = np.degrees(theta_e_rad)                  # in [0, 180]\n",
    "\n",
    "# Compute the azimuth φ_e = atan2(y, x), then convert to [0, 360) degrees.\n",
    "phi_e_rad = np.arctan2(y, x)                            # in (–π, π]\n",
    "phi_e_deg = (np.degrees(phi_e_rad) + 360.0) % 360.0     # in [0, 360)\n",
    "\n",
    "angle_matrix = np.column_stack([\n",
    "    theta_e_deg,  # shape (N,)\n",
    "    phi_e_deg,    # shape (N,)\n",
    "    alpha_s,      # shape (N,)\n",
    "    theta1,       # shape (N,)\n",
    "    phi1,         # shape (N,)\n",
    "    theta2,       # shape (N,)\n",
    "    phi2          # shape (N,)\n",
    "])"
   ]
  },
  {
   "cell_type": "code",
   "execution_count": 113,
   "metadata": {},
   "outputs": [
    {
     "data": {
      "text/plain": [
       "(4213, 7)"
      ]
     },
     "execution_count": 113,
     "metadata": {},
     "output_type": "execute_result"
    }
   ],
   "source": [
    "angle_matrix.shape"
   ]
  },
  {
   "cell_type": "code",
   "execution_count": 114,
   "metadata": {},
   "outputs": [],
   "source": [
    "from pnds.PNDS_geometry import RESHify_1D, unRESHify_1D"
   ]
  },
  {
   "cell_type": "code",
   "execution_count": 115,
   "metadata": {},
   "outputs": [],
   "source": [
    "data_resh, cuts, half = RESHify_1D(angle_matrix, invert=True)"
   ]
  },
  {
   "cell_type": "code",
   "execution_count": 116,
   "metadata": {},
   "outputs": [
    {
     "data": {
      "text/plain": [
       "(4213, 8)"
      ]
     },
     "execution_count": 116,
     "metadata": {},
     "output_type": "execute_result"
    }
   ],
   "source": [
    "data_resh.shape"
   ]
  },
  {
   "cell_type": "code",
   "execution_count": 34,
   "metadata": {},
   "outputs": [
    {
     "name": "stdout",
     "output_type": "stream",
     "text": [
      "c2c2 4\n",
      "c2c3 8\n",
      "c3c2 9\n",
      "c3c3 19\n"
     ]
    }
   ],
   "source": [
    "for res in precluster_results:\n",
    "    print(res['name'], len(res['clusters']))"
   ]
  }
 ],
 "metadata": {
  "kernelspec": {
   "display_name": "base",
   "language": "python",
   "name": "python3"
  },
  "language_info": {
   "codemirror_mode": {
    "name": "ipython",
    "version": 3
   },
   "file_extension": ".py",
   "mimetype": "text/x-python",
   "name": "python",
   "nbconvert_exporter": "python",
   "pygments_lexer": "ipython3",
   "version": "3.11.3"
  }
 },
 "nbformat": 4,
 "nbformat_minor": 2
}
