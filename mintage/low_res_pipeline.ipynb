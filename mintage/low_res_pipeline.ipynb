{
 "cells": [
  {
   "cell_type": "code",
   "execution_count": 1,
   "metadata": {},
   "outputs": [],
   "source": [
    "from parsing.parse_functions import parse_pdb_files\n",
    "import numpy as np\n",
    "import matplotlib.pyplot as plt\n",
    "from matplotlib.patches import Circle\n",
    "import matplotlib\n",
    "from matplotlib.patches import Circle\n",
    "from mpl_toolkits.mplot3d import Axes3D   # noqa: F401  (needed for 3-D projection)\n",
    "\n",
    "from utils.scale_low_res_coordinates import scale_low_res_coords\n",
    "from utils.pucker_data_functions import determine_pucker_data"
   ]
  },
  {
   "cell_type": "code",
   "execution_count": 2,
   "metadata": {},
   "outputs": [],
   "source": [
    "input_pdb_dir = \"/Users/kaisardauletbek/Documents/GitHub/RNA-Classification/data/rna2020_pruned_pdbs/\"\n",
    "suites = parse_pdb_files(input_pdb_dir, input_pdb_folder=input_pdb_dir)\n",
    "\n",
    "puckers = ['c2c2', 'c2c3', 'c3c2', 'c3c3']\n",
    "pucker_indices = {}\n",
    "for pucker in puckers:\n",
    "    indices, _ = determine_pucker_data(suites, pucker)\n",
    "    pucker_indices[pucker] = indices\n",
    "\n",
    "# -- ensure every index array is really integer-typed  -----------------\n",
    "pucker_indices = {k: np.asarray(v, dtype=np.intp)    # <-- np.intp = “platform int”\n",
    "                  for k, v in pucker_indices.items()}\n"
   ]
  },
  {
   "cell_type": "code",
   "execution_count": 3,
   "metadata": {},
   "outputs": [],
   "source": [
    "# ---------------------------------------------------------------------------\n",
    "# helpers\n",
    "# ---------------------------------------------------------------------------\n",
    "def spherical_to_vec(theta_deg: np.ndarray, phi_deg: np.ndarray) -> np.ndarray:\n",
    "    t, p = np.radians(theta_deg), np.radians(phi_deg)\n",
    "    return np.column_stack([np.sin(t) * np.cos(p),\n",
    "                            np.sin(t) * np.sin(p),\n",
    "                            np.cos(t)])\n",
    "\n",
    "def arc_distance(a: np.ndarray, b: float) -> np.ndarray:\n",
    "    \"\"\"Shortest signed arc distance between vectors of angles a and scalar b (radians).\"\"\"\n",
    "    d = (a - b + np.pi) % (2 * np.pi) - np.pi\n",
    "    return d\n",
    "\n",
    "def exponential_map(V, p):\n",
    "    \"\"\"\n",
    "    V - point cloud N x R^m\n",
    "    p - point of tangency R^m\n",
    "    \"\"\"\n",
    "    N, M = V.shape[0], V.shape[1]\n",
    "    V_mean = V.mean(axis=0)\n",
    "    # check if points are centered at 0, center them\n",
    "    V -= V_mean\n",
    "    V = np.column_stack([V, np.zeros(N)])\n",
    "    V_norm = np.linalg.norm(V, axis=1)[:, None]\n",
    "    \n",
    "    return np.cos(V_norm) * p + np.sin(V_norm) * (V / V_norm)\n",
    "    "
   ]
  },
  {
   "cell_type": "code",
   "execution_count": 4,
   "metadata": {},
   "outputs": [],
   "source": [
    "# scale only the distance‐variance, leave α‐variance and both means alone\n",
    "scaled_coords, lambda_d, lambda_alpha = scale_low_res_coords(\n",
    "    suites,\n",
    "    scale_distance_variance=True,\n",
    "    scale_alpha_variance=False,\n",
    "    preserve_distance_mean=True,\n",
    "    preserve_alpha_mean=True,\n",
    "    store_attr=\"scaled_dvar_only\"\n",
    ")\n",
    "\n",
    "d2_s, d3_s, alpha_s, theta1, phi1, theta2, phi2 = scaled_coords.T\n",
    "N = len(d2_s)"
   ]
  },
  {
   "cell_type": "code",
   "execution_count": 5,
   "metadata": {},
   "outputs": [],
   "source": [
    "x = np.array([d2_s[0], d3_s[0], alpha_s[0], theta1[0], phi1[0], theta2[0], phi2[0]])\n",
    "x_prime = np.array([d2_s[1], d3_s[1], alpha_s[1], theta1[1], phi1[1], theta2[1], phi2[1]])"
   ]
  },
  {
   "cell_type": "code",
   "execution_count": 6,
   "metadata": {},
   "outputs": [
    {
     "data": {
      "text/plain": [
       "20242.6872313057"
      ]
     },
     "execution_count": 6,
     "metadata": {},
     "output_type": "execute_result"
    }
   ],
   "source": [
    "np.dot(x, x_prime)"
   ]
  },
  {
   "cell_type": "code",
   "execution_count": 9,
   "metadata": {},
   "outputs": [
    {
     "data": {
      "text/plain": [
       "array([[    0.        , 16270.74695766, 18219.56040179, ...,\n",
       "        17364.28387503, 17031.3551825 , 17960.32560052],\n",
       "       [    0.        ,     0.        , 18255.48784867, ...,\n",
       "        17376.94080798, 17057.06637522, 18008.67226883],\n",
       "       [    0.        ,     0.        ,     0.        , ...,\n",
       "        19495.24407555, 19116.32419855, 20188.06514501],\n",
       "       ...,\n",
       "       [    0.        ,     0.        ,     0.        , ...,\n",
       "            0.        , 18181.73247492, 19196.02614517],\n",
       "       [    0.        ,     0.        ,     0.        , ...,\n",
       "            0.        ,     0.        , 18818.5342806 ],\n",
       "       [    0.        ,     0.        ,     0.        , ...,\n",
       "            0.        ,     0.        ,     0.        ]])"
      ]
     },
     "execution_count": 9,
     "metadata": {},
     "output_type": "execute_result"
    }
   ],
   "source": [
    "def get_distance(x, x_prime):\n",
    "    return np.dot(x, x_prime)\n",
    "\n",
    "def get_distance_matrix(scaled_coords):\n",
    "    d2_s, d3_s, alpha_s, theta1, phi1, theta2, phi2 = scaled_coords.T\n",
    "    N = len(d2_s)\n",
    "    distance_matrix = np.zeros((N, N))\n",
    "    for i in range(N):\n",
    "        for j in range(i+1, N):\n",
    "            x = np.array([d2_s[i], d3_s[i], alpha_s[i], theta1[i], phi1[i], theta2[i], phi2[i]])\n",
    "            x_prime = np.array([d2_s[j], d3_s[j], d3_s[j], theta1[j], phi1[j], theta2[j], phi2[j]])\n",
    "            distance_matrix[i, j] = get_distance(x, x_prime)\n",
    "    return distance_matrix\n",
    "\n",
    "distance_matrix = get_distance_matrix(scaled_coords)\n"
   ]
  },
  {
   "cell_type": "code",
   "execution_count": null,
   "metadata": {},
   "outputs": [],
   "source": []
  }
 ],
 "metadata": {
  "kernelspec": {
   "display_name": "base",
   "language": "python",
   "name": "python3"
  },
  "language_info": {
   "codemirror_mode": {
    "name": "ipython",
    "version": 3
   },
   "file_extension": ".py",
   "mimetype": "text/x-python",
   "name": "python",
   "nbconvert_exporter": "python",
   "pygments_lexer": "ipython3",
   "version": "3.11.3"
  }
 },
 "nbformat": 4,
 "nbformat_minor": 2
}
